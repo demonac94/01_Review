{
 "cells": [
  {
   "cell_type": "markdown",
   "metadata": {},
   "source": []
  },
  {
   "cell_type": "markdown",
   "metadata": {},
   "source": [
    "# Import libraries"
   ]
  },
  {
   "cell_type": "code",
   "execution_count": 1,
   "metadata": {},
   "outputs": [],
   "source": [
    "%load_ext autoreload\n",
    "%autoreload 1"
   ]
  },
  {
   "cell_type": "code",
   "execution_count": null,
   "metadata": {},
   "outputs": [],
   "source": [
    "# Importing libraries\n",
    "import re\n",
    "import os\n",
    "import pandas as pd\n",
    "import numpy as np\n",
    "import matplotlib.pyplot as plt\n",
    "\n",
    "# Import libraries for listing countries\n",
    "#import pycountry\n",
    "#import pycountry_convert as pc\n",
    "\n",
    "# Import aux libraries\n",
    "from collections import Counter\n",
    "import re\n",
    "#from wordcloud import WordCloud\n",
    "\n",
    "# Import libraries for Spacy\n",
    "import spacy\n",
    "from spacy import displacy\n",
    "from spacy.tokens import Span\n",
    "from spacy.matcher import Matcher \n",
    "\n",
    "# Load model for Spacy\n",
    "nlp = spacy.load('en_core_web_sm')\n",
    "matcher = Matcher(nlp.vocab)"
   ]
  },
  {
   "cell_type": "code",
   "execution_count": null,
   "metadata": {},
   "outputs": [],
   "source": [
    "# Check CUDA on torch\n",
    "import torch\n",
    "print(torch.cuda.is_available())  # Should return True if CUDA is properly installed\n",
    "print(torch.cuda.current_device())  # Returns the index of the current CUDA device\n",
    "print(torch.cuda.get_device_name(torch.cuda.current_device())) "
   ]
  },
  {
   "cell_type": "code",
   "execution_count": null,
   "metadata": {},
   "outputs": [],
   "source": [
    "# Import transformers and others\n",
    "from transformers import pipeline\n",
    "from sentence_transformers import SentenceTransformer, SimilarityFunction, util"
   ]
  },
  {
   "cell_type": "code",
   "execution_count": null,
   "metadata": {},
   "outputs": [],
   "source": [
    "# Import own libraries\n",
    "from extract_info import extract_abstracts_bib"
   ]
  },
  {
   "cell_type": "code",
   "execution_count": null,
   "metadata": {},
   "outputs": [],
   "source": [
    "%aimport extract_info"
   ]
  },
  {
   "cell_type": "markdown",
   "metadata": {},
   "source": [
    "# Export information from bib files to excel"
   ]
  },
  {
   "cell_type": "code",
   "execution_count": null,
   "metadata": {},
   "outputs": [],
   "source": [
    "# Create the excel file with the abstracts information\n",
    "bib_directory   = '00_bibFiles'\n",
    "bib_file        = 'search_001'\n",
    "path_export     = extract_abstracts_bib(bib_file, bib_directory,'out')"
   ]
  },
  {
   "cell_type": "markdown",
   "metadata": {},
   "source": [
    "# Load the data extracted"
   ]
  },
  {
   "cell_type": "code",
   "execution_count": null,
   "metadata": {},
   "outputs": [],
   "source": [
    "# From the extracted information, create a dataframe\n",
    "bib_file        = 'search_001'\n",
    "path_export_file = os.path.join('out', bib_file+'_export.xlsx')\n",
    "df_base = pd.read_excel(path_export_file)\n",
    "print(df_base.columns)\n",
    "print(df_base['abstract'][12])"
   ]
  },
  {
   "cell_type": "markdown",
   "metadata": {},
   "source": [
    "# Data preprocess"
   ]
  },
  {
   "cell_type": "markdown",
   "metadata": {},
   "source": [
    "### Get the tokens"
   ]
  },
  {
   "cell_type": "code",
   "execution_count": null,
   "metadata": {},
   "outputs": [],
   "source": [
    "# Function to preprocess and tokenize text using spacy\n",
    "def preprocess_text(doc):\n",
    "    tokens = [token.text.lower() for token in doc if not token.is_stop and token.is_alpha]\n",
    "    return tokens\n",
    "\n",
    "# Tokenize abstracts and titles and add column filtering out the stopwords\n",
    "df_base['tokens_abstract']   = df_base['abstract'].apply(nlp)\n",
    "df_base['tokens_title']      = df_base['title'].apply(nlp)\n",
    "\n",
    "# Tokenize abstracts and titles and add column filtering out the stopwoordss\n",
    "df_base['f_tokens_abstract'] = df_base['tokens_abstract'].apply(preprocess_text)\n",
    "df_base['f_tokens_title']    = df_base['tokens_title'].apply(preprocess_text)\n"
   ]
  },
  {
   "cell_type": "markdown",
   "metadata": {},
   "source": [
    "### Get the principal keywords of the abstracts"
   ]
  },
  {
   "cell_type": "code",
   "execution_count": null,
   "metadata": {},
   "outputs": [],
   "source": [
    "from transformers import (\n",
    "    TokenClassificationPipeline,\n",
    "    AutoModelForTokenClassification,\n",
    "    AutoTokenizer,\n",
    ")\n",
    "from transformers.pipelines import AggregationStrategy\n",
    "\n",
    "# Define keyphrase extraction pipeline\n",
    "class KeyphraseExtractionPipeline(TokenClassificationPipeline):\n",
    "    def __init__(self, model, *args, **kwargs):\n",
    "        super().__init__(\n",
    "            model=AutoModelForTokenClassification.from_pretrained(model),\n",
    "            tokenizer=AutoTokenizer.from_pretrained(model),\n",
    "            *args,\n",
    "            **kwargs\n",
    "        )\n",
    "\n",
    "    def postprocess(self, all_outputs):\n",
    "        results = super().postprocess(\n",
    "            all_outputs=all_outputs,\n",
    "            aggregation_strategy=AggregationStrategy.SIMPLE,\n",
    "        )\n",
    "        return np.unique([result.get(\"word\").strip() for result in results])\n",
    "\n",
    "# Load pipeline\n",
    "model_name = \"ml6team/keyphrase-extraction-kbir-inspec\"\n",
    "#model_name = 'ml6team/keyphrase-generation-keybart-inspec'\n",
    "extractor = KeyphraseExtractionPipeline(model=model_name, device=0)\n",
    "\n",
    "# Fastest\n",
    "model_2 = 'ml6team/keyphrase-extraction-distilbert-inspec'\n",
    "extractor_2 = KeyphraseExtractionPipeline(model=model_2, device=0)\n",
    "\n",
    "\n",
    "#exmaple = extractor(df_base['abstract'][1])\n",
    "#print (exmaple)\n",
    "example2 = extractor_2(df_base['abstract'][29])\n",
    "\n",
    "print(example2)\n",
    "\n",
    "for i in range(0, 10):\n",
    "    print(extractor(df_base['abstract'][i]))\n",
    "\n",
    "#df_base['keywords']= df_base['abstract'].apply(lambda x: extractor(x))\n"
   ]
  },
  {
   "cell_type": "code",
   "execution_count": null,
   "metadata": {},
   "outputs": [],
   "source": [
    "summarizer = pipeline(\"summarization\", model=\"Falconsai/text_summarization\", device=0)\n",
    "for i in range(0, 20):\n",
    "    text = df_base['abstract'][i]\n",
    "    print(summarizer(text, max_length=100, min_length=30, do_sample=False))\n",
    "#text = df_base['abstract']\n",
    "#print(text)\n",
    "#print(summarizer(text, max_length=100, min_length=30, do_sample=False))"
   ]
  },
  {
   "cell_type": "code",
   "execution_count": null,
   "metadata": {},
   "outputs": [],
   "source": [
    "item = 259\n",
    "title = df_base['title'][item]\n",
    "abstract = df_base['abstract'][item]\n",
    "doc = nlp(abstract)\n",
    "sentences = [sent.text for sent in doc.sents]\n",
    "\n",
    "model = SentenceTransformer('paraphrase-MiniLM-L6-v2')\n",
    "sentence_embeddings = model.encode(sentences)\n",
    "title_embedding = model.encode(title)\n",
    "\n",
    "abstract_embeddings = np.mean(sentence_embeddings, axis=0)\n",
    "\n",
    "\n",
    "# cosine similarity\n",
    "abstract_scores = util.pytorch_cos_sim(sentence_embeddings, abstract_embeddings)\n",
    "title_score = util.pytorch_cos_sim(sentence_embeddings, title_embedding)\n",
    "\n",
    "doc_scores = abstract_scores.flatten()\n",
    "tit_scores = title_score.flatten()\n",
    "\n",
    "title_weight = 0.3\n",
    "combined_scores = (1-title_weight)*doc_scores+tit_scores*title_weight\n",
    "\n",
    "for i, score in enumerate(combined_scores):\n",
    "    print(f\"Sentence {i+1} Score: {score:.4f}\")\n",
    "    print(sentences[i])\n"
   ]
  },
  {
   "cell_type": "code",
   "execution_count": null,
   "metadata": {},
   "outputs": [],
   "source": [
    "# Export the results to an excel file\n",
    "path_export_file = os.path.join('out', bib_file+'_export_tockens.xlsx')\n",
    "df_base.to_excel(path_export_file, index=True)"
   ]
  },
  {
   "cell_type": "markdown",
   "metadata": {},
   "source": [
    "### Analytics of tokens"
   ]
  },
  {
   "cell_type": "code",
   "execution_count": null,
   "metadata": {},
   "outputs": [],
   "source": [
    "\n",
    "# Create entities\n",
    "df_base['entities_abstract'] = df_base['tokens_abstract'].apply(lambda x: [(ent.text, ent.label_) for ent in x.ents])\n",
    "\n",
    "# Create chunks\n",
    "df_base['chunks_abstract'] = df_base['tokens_abstract'].apply(lambda x: [(chunk.text, chunk.root.text) for chunk in x.noun_chunks])"
   ]
  },
  {
   "cell_type": "code",
   "execution_count": null,
   "metadata": {},
   "outputs": [],
   "source": [
    "# Table with most common entities types\n",
    "entities_list = [label for sublist in df_base['entities_abstract'] for ent, label in sublist]\n",
    "entities_counter = Counter(entities_list)\n",
    "df_entities = pd.DataFrame(entities_counter.items(), columns=['label', 'count'])\n",
    "df_entities = df_entities.sort_values(by='count', ascending=False)\n",
    "df_entities['label_desc'] = df_entities['label'].apply(lambda x: spacy.explain(x) if spacy.explain(x) else x)\n",
    "df_entities.head(10)"
   ]
  },
  {
   "cell_type": "code",
   "execution_count": null,
   "metadata": {},
   "outputs": [],
   "source": [
    "# Plot the common tokens of titles and abstracts\n",
    "tokens_counter = Counter([word for sublist in df_base['f_tokens_abstract'] for word in sublist])\n",
    "common_words = tokens_counter.most_common(15)\n",
    "\n",
    "ents_counter = Counter([ent for sublist in df_base['entities_abstract'] for ent, label in sublist])\n",
    "common_ents = ents_counter.most_common(15)\n",
    "\n",
    "# Create a hbar plot of the most common filtered words\n",
    "fig,(ax1,ax2) = plt.subplots(nrows=1, ncols=2, figsize=(10, 5))\n",
    "\n",
    "unfiltered_plt = ax1.barh(*zip(*common_words))\n",
    "ax1.set_ylabel('Word')\n",
    "ax1.set_title('Most common words')\n",
    "ax1.bar_label(unfiltered_plt)\n",
    "\n",
    "filtered_plt = ax2.barh(*zip(*common_ents))\n",
    "ax2.set_ylabel('Entity')\n",
    "ax2.set_title('Common entities')\n",
    "ax2.bar_label(filtered_plt)\n",
    "\n",
    "plt.show()\n"
   ]
  },
  {
   "cell_type": "markdown",
   "metadata": {},
   "source": [
    "# Filtering Data PRISMA information"
   ]
  },
  {
   "cell_type": "markdown",
   "metadata": {},
   "source": [
    "### 1. Title\n",
    "- Identify from the title if the article a systematic review"
   ]
  },
  {
   "cell_type": "code",
   "execution_count": null,
   "metadata": {},
   "outputs": [],
   "source": [
    "# Check from the tokens titles if any is 'review'\n",
    "df_base['PRISMA_1_is_review'] = df_base['f_tokens_title'].apply(lambda x: 'review' in x)\n",
    "df_filtered = df_base[df_base['PRISMA_1_is_review'] == True]\n",
    "for index, row in df_filtered.iterrows():\n",
    "    print(row['title'])\n"
   ]
  },
  {
   "cell_type": "markdown",
   "metadata": {},
   "source": [
    "# Export the results to an excel file"
   ]
  },
  {
   "cell_type": "code",
   "execution_count": null,
   "metadata": {},
   "outputs": [],
   "source": [
    "# From the save information, create a dataframe\n",
    "bib_file        = 'search_001'\n",
    "path_export_file = os.path.join('out', bib_file+'_export_tockens.xlsx')\n",
    "df_base = pd.read_excel(path_export_file)\n",
    "print(df_base.columns)"
   ]
  },
  {
   "cell_type": "markdown",
   "metadata": {},
   "source": [
    "### 2. Objectives\n",
    "- Provide an explicit statement of the main objective(s) or question(s) the review addresses\n",
    "- Extract if exists a objective from the context"
   ]
  },
  {
   "cell_type": "code",
   "execution_count": null,
   "metadata": {},
   "outputs": [],
   "source": [
    "# Function to extract sentences from a single document\n",
    "def extract_sentences(text):\n",
    "    doc = nlp(text)  # Process the text with spaCy\n",
    "    sentences = [sent.text.strip() for sent in doc.sents]  # Extract sentences\n",
    "    return sentences"
   ]
  },
  {
   "cell_type": "markdown",
   "metadata": {},
   "source": [
    "#### Analisys with Q/A to find objective"
   ]
  },
  {
   "cell_type": "code",
   "execution_count": null,
   "metadata": {},
   "outputs": [],
   "source": [
    "# Identify main sentences by applying the function to the abstracts\n",
    "\n",
    "model_similarity = SentenceTransformer(\"all-MiniLM-L6-v2\", similarity_fn_name=SimilarityFunction.COSINE, device=0)\n",
    "\n",
    "def similarity_matrix(title, abstract):\n",
    "    # Find the similarity between the title and the abstract\n",
    "    title_embedding     = model_similarity.encode(title)\n",
    "\n",
    "    sentences           = extract_sentences(abstract)\n",
    "    sentence_embeddings = model_similarity.encode(sentences)\n",
    "\n",
    "    abstract_embeddings = np.mean(sentence_embeddings, axis=0)\n",
    "\n",
    "    # Calculate the cosine similarity between the title and the abstract\n",
    "    abstract_scores     = util.pytorch_cos_sim(sentence_embeddings, abstract_embeddings)\n",
    "    title_score         = util.pytorch_cos_sim(sentence_embeddings, title_embedding)\n",
    "\n",
    "    # Combine the scores\n",
    "    doc_scores = abstract_scores.flatten()\n",
    "    tit_scores = title_score.flatten()\n",
    "    \n",
    "    title_weight    = 0.3\n",
    "    combined_scores = (1-title_weight)*doc_scores + tit_scores*title_weight\n",
    "    \n",
    "    # Return the sentence with the highest similarity\n",
    "    return combined_scores\n",
    "\n",
    "# Check if it is working\n",
    "df_report = df_base[['title', 'abstract']].copy()\n",
    "df_report['sentences_weights'] = df_report.apply(lambda x: similarity_matrix(x['title'], x['abstract']),axis=1)"
   ]
  },
  {
   "cell_type": "code",
   "execution_count": null,
   "metadata": {},
   "outputs": [],
   "source": [
    "df_report['sentences'] = df_report['abstract'].apply(extract_sentences)\n",
    "\n"
   ]
  },
  {
   "cell_type": "code",
   "execution_count": null,
   "metadata": {},
   "outputs": [],
   "source": [
    "# Extract the verbs for each sentence\n",
    "def look_for_verbs_dobj(abstract):\n",
    "    sentences = extract_sentences(abstract)\n",
    "    result = []\n",
    "    for i, sentence in enumerate(sentences):\n",
    "        doc = nlp(sentence)\n",
    "        verb_list = []\n",
    "        for token in doc:\n",
    "            if token.dep_ == 'dobj' or token.dep_ == 'nsubjpass':\n",
    "                if token.head.dep_ != 'advcl':\n",
    "            #if token.dep_ == 'dobj' or token.dep_ == 'nsubjpass':\n",
    "            #    if token.head.dep_ == 'ROOT':\n",
    "                    #value = token.head.lemma_+token.text.upper()\n",
    "                    verb_list.append(token.head.lemma_+token.text.capitalize())\n",
    "        result.append(verb_list)\n",
    "    return result\n",
    "            \n",
    "df_report['verbs_objective'] = df_report['abstract'].apply(look_for_verbs_dobj)"
   ]
  },
  {
   "cell_type": "code",
   "execution_count": null,
   "metadata": {},
   "outputs": [],
   "source": [
    "# Create a df with a list of verbs from verbs_objective\n",
    "list_verbs = df_report['top_ROOT_verb'].explode().dropna()\n",
    "list_verbs = list_verbs.explode().dropna().str.lower()\n",
    "print(list_verbs)\n",
    "# split at mayus characters\n",
    "#list_verbs = list_verbs.str.split(r'[A-Z][^A-Z]*').explode().dropna()\n",
    "#list_verbs = [verb for sublist in list_verbs for verb in sublist]\n",
    "# Count the verbs\n",
    "verbs_counter = Counter(list_verbs)\n",
    "# Create a df with the verbs\n",
    "df_verbs = pd.DataFrame(verbs_counter.items(), columns=['verb', 'count'])\n",
    "df_verbs = df_verbs.sort_values(by='count', ascending=False)\n",
    "df_verbs.head(10)"
   ]
  },
  {
   "cell_type": "code",
   "execution_count": null,
   "metadata": {},
   "outputs": [],
   "source": [
    "# Create a df with a list of verbs from verbs_objective\n",
    "list_subj = df_report['subjects'].explode().dropna()\n",
    "list_subj = [subj for sublist in list_subj for subj in sublist]\n",
    "# Count the verbs\n",
    "subj_counter = Counter(list_subj)\n",
    "# Create a df with the verbs\n",
    "df_subj = pd.DataFrame(subj_counter.items(), columns=['subj', 'count'])\n",
    "df_subj = df_subj.sort_values(by='count', ascending=False)\n",
    "df_subj.head(10)"
   ]
  },
  {
   "cell_type": "code",
   "execution_count": null,
   "metadata": {},
   "outputs": [],
   "source": [
    "# Extract the verbs for each sentence\n",
    "def look_for_verbs_dobj(sentences):\n",
    "    result = []\n",
    "    for i, sentence in enumerate(sentences):\n",
    "        doc = nlp(sentence)\n",
    "        verb_list = []\n",
    "        for token in doc:\n",
    "            if token.dep_ == 'dobj' or token.dep_ == 'nsubjpass':\n",
    "                if token.head.dep_ != 'advcl':\n",
    "            #if token.dep_ == 'dobj' or token.dep_ == 'nsubjpass':\n",
    "            #    if token.head.dep_ == 'ROOT':\n",
    "                    #value = token.head.lemma_+token.text.upper()\n",
    "                    verb_list.append(token.head.lemma_+token.lemma_.capitalize())\n",
    "        result.append(verb_list)\n",
    "    return result\n",
    "\n",
    "# Extract the verbs for each sentence\n",
    "def look_for_verbs_ROOT(sentences):\n",
    "    result = []\n",
    "    for i, sentence in enumerate(sentences):\n",
    "        doc = nlp(sentence)\n",
    "        verb_list = []\n",
    "        for token in doc:\n",
    "            if token.dep_ == 'ROOT':\n",
    "                subj = [child.lemma_ for child in token.children if child.dep_ == 'nsubj']\n",
    "                verb_list.append(token.lemma_)\n",
    "        result.append(verb_list)\n",
    "    return result\n",
    "\n",
    "# Extract the subjects for each sentence\n",
    "def look_for_subjects(sentences):\n",
    "    result = []\n",
    "    for i, sentence in enumerate(sentences):\n",
    "        doc = nlp(sentence)\n",
    "        subj_list = []\n",
    "        for token in doc:\n",
    "            if token.dep_ == 'ROOT':\n",
    "                subj = [child.lemma_ for child in token.children if child.dep_ == 'nsubj']\n",
    "                if subj:\n",
    "                    subj_list.append(subj[0])\n",
    "        result.append(subj_list)\n",
    "    return result\n",
    "\n",
    "# Function to extract phrases based on semantic roles\n",
    "def extract_phrase2(sentences):\n",
    "    result = []\n",
    "    for i, sentence in enumerate(sentences):\n",
    "        doc = nlp(sentence)\n",
    "        phrase_list = []\n",
    "        for token in doc:\n",
    "            # Check for phrases like \"in this review\" based on dependency tags and part-of-speech tags\n",
    "            if token.dep_ in ('prep') and token.head.dep_ == 'ROOT':\n",
    "                start = token.i\n",
    "                end = [child.i for child in token.children if child.dep_ == 'pobj']\n",
    "                if end:\n",
    "                    end = end[0]\n",
    "                    phrase_list.append( ' '.join([t.text.lower() for t in doc[start:end+1]]))\n",
    "        result.append(phrase_list)\n",
    "    return result\n",
    "\n",
    "#df_report['verbs_objective']    = df_report['sentences'].apply(look_for_verbs_dobj)\n",
    "#df_report['verbs_ROOT']    = df_report['sentences'].apply(look_for_verbs_ROOT)\n",
    "df_report['phrase_ROOT']   = df_report['sentences'].apply(extract_phrase2)\n",
    "#df_report['subjects']           = df_report['sentences'].apply(look_for_subjects)\n",
    "\n",
    "\n",
    "\n"
   ]
  },
  {
   "cell_type": "code",
   "execution_count": null,
   "metadata": {},
   "outputs": [],
   "source": [
    "# Load a pre-trained QA model and tokenizer\n",
    "qa_pipeline = pipeline('question-answering', model=\"distilbert-base-uncased-distilled-squad\", device=0)\n",
    "\n",
    "# Function to find the objective of the paper\n",
    "def objective_weights_qa(paragraph, question):\n",
    "    result = qa_pipeline(question=question, context=paragraph)\n",
    "    \n",
    "    doc = nlp(paragraph)\n",
    "    # Find whole sentence where the answer is\n",
    "    for sent in doc.sents:\n",
    "        if sent.start_char <= result['start'] and sent.end_char >= result['end']:\n",
    "            sentence = sent.text\n",
    "            break        \n",
    "        else:\n",
    "            sentence = 'Not found'\n",
    "        \n",
    "    return sentence\n",
    "\n",
    "# Define the questions\n",
    "queries = [\n",
    "    \"What is the objective of this paper/work/study?\",\n",
    "    \"What does the paper/work/study analyze?\",\n",
    "    \"What question is addressed in the paper/work/study?\",\n",
    "    \"What research question does this study aim to answer?\",\n",
    "    \"What is the main purpose of the paper/work/study?\",\n",
    "    \"What this paper/work/study investigate?\"\n",
    "    \"What does this study seek to accomplish?\"   \n",
    "    ]\n",
    "\n",
    "# Apply the function to the abstracts\n",
    "def matrix_QA_objective(abstract, sentences, queries):\n",
    "    results = []\n",
    "    for query in queries:\n",
    "        sentence_result = objective_weights_qa(abstract, query)\n",
    "        results.append(sentence_result)\n",
    "    \n",
    "    count_results = Counter(results)\n",
    "    count_matrix = np.zeros(len(sentences))\n",
    "    for i, sent in enumerate(sentences):\n",
    "        count_matrix[i] = count_results[sent]\n",
    "    \n",
    "    count_matrix = count_matrix/np.sum(count_matrix) if np.sum(count_matrix) != 0 else count_matrix\n",
    "    return count_matrix\n",
    "\n",
    "# Check if it is working\n",
    "##item = 0\n",
    "##abstract = df_report['abstract'][item]\n",
    "##sentences = df_report['sentences'][item]\n",
    "##\n",
    "##print(matrix_QA_objective(abstract, sentences, queries))\n",
    "\n",
    "# Apply function to the dataframe\n",
    "df_report['objective_QA_weights'] = df_report.apply(lambda x: matrix_QA_objective(x['abstract'], x['sentences'], queries), axis=1)"
   ]
  },
  {
   "cell_type": "code",
   "execution_count": null,
   "metadata": {},
   "outputs": [],
   "source": [
    "# Create a matrix with boolean indexes if the subject is on the list\n",
    "def new_weight(verbs, subjects, IN_phrase_root, QA_weights, weights):\n",
    "    exclude_conlusion_verbs     = ['show', 'reveal', 'indicate', 'confirm', 'demonstrate', 'provide', 'find', 'showcase', 'highlight', 'suggest', 'achieve',\n",
    "                                   'account', 'contribute', \n",
    "                                   ]\n",
    "    include_subjects            = ['study', 'paper', 'work', 'research', ]\n",
    "    include_IN_phrase_root      = ['in this study', 'in the current study', 'through this study', 'in the present study',\n",
    "                                   'in this paper',\n",
    "                                   'in this work', 'in the present work', 'through this work',\n",
    "                                   'in this article', ]\n",
    "\n",
    "    w_exclude = []\n",
    "    w_inc_subj = []\n",
    "    w_inc_IN = []\n",
    "\n",
    "    for verb in verbs:\n",
    "        _exclude = any([token in exclude_conlusion_verbs for token in verb])\n",
    "        w_exclude.append(int(_exclude))\n",
    "\n",
    "    for subj in subjects:\n",
    "        _include = any([token in include_subjects for token in subj])\n",
    "        w_inc_subj.append(int(_include))\n",
    "    \n",
    "    for IN_phrase in IN_phrase_root:\n",
    "        _include = any([token in include_IN_phrase_root for token in IN_phrase])\n",
    "        w_inc_IN.append(int(_include))\n",
    "\n",
    "    # Matrix to identify last sentence\n",
    "    last_sentence = np.zeros(len(verbs))\n",
    "    last_sentence[-1] = 1\n",
    "\n",
    "    w_exclude = np.array(w_exclude)\n",
    "    w_inc_subj = np.array(w_inc_subj)\n",
    "    w_inc_IN = np.array(w_inc_IN) \n",
    "    weights = weights.numpy()\n",
    "    w_sbj = np.logical_or(w_inc_subj, w_inc_IN).astype(int)\n",
    "\n",
    "    n_weights = weights*(1 + w_sbj*0.15)\n",
    "    n_weights = n_weights*(1 + QA_weights*0.3) \n",
    "    n_weights = n_weights * (1 - w_exclude)\n",
    "    n_weights = n_weights * (1 - last_sentence*0.2)\n",
    "    #return n_weights, w_exclude, w_inc_subj, w_inc_IN, w_sbj\n",
    "    return n_weights\n"
   ]
  },
  {
   "cell_type": "code",
   "execution_count": null,
   "metadata": {},
   "outputs": [],
   "source": [
    "\n",
    "# Check if it is working\n",
    "item = 20\n",
    "weights = df_report['sentences_weights'][item]\n",
    "in_phrase_root = df_report['phrase_ROOT'][item]\n",
    "subjects = df_report['subjects'][item]\n",
    "verbs = df_report['verbs_ROOT'][item]\n",
    "QA_w = df_report['objective_QA_weights'][item]\n",
    "n_weights, w_exclude, w_inc_subj, w_inc_IN, w_sbj = new_weight(verbs, subjects,in_phrase_root, QA_w,weights)\n",
    "#\n",
    "#print(n_weights)\n",
    "\n",
    "print(weights)\n",
    "print(QA_w)\n",
    "print(w_sbj)\n",
    "print(n_weights)\n",
    "\n"
   ]
  },
  {
   "cell_type": "code",
   "execution_count": null,
   "metadata": {},
   "outputs": [],
   "source": [
    "\n",
    "df_report['n_weights'] = df_report.apply(lambda x: new_weight(x['verbs_ROOT'], x['subjects'], x['phrase_ROOT'], x['objective_QA_weights'], x['sentences_weights']), axis=1)\n",
    "df_report['top_nsentence'] = df_report.apply(lambda x: x['sentences'][np.argmax(x['n_weights'])], axis=1)\n",
    "df_report['top_verb'] = df_report.apply(lambda x: x['verbs_objective'][np.argmax(x['n_weights'])], axis=1)\n",
    "df_report['top_ROOT_verb'] = df_report.apply(lambda x: x['verbs_ROOT'][np.argmax(x['n_weights'])], axis=1)\n",
    "\n",
    "# Top Sentence with weights\n",
    "df_report_check = df_base[['title']].copy()\n",
    "\n",
    "# With sentence_weights\n",
    "df_report_check['top_sentence_w']   = df_report.apply(lambda x: x['sentences'][np.argmax(x['sentences_weights'])], axis=1)\n",
    "df_report_check['top_ROOT_w']       = df_report.apply(lambda x: x['verbs_ROOT'][np.argmax(x['sentences_weights'])], axis=1)\n",
    "\n",
    "# With objective_QA_weights\n",
    "df_report_check['top_sentence_QA']   = df_report.apply(lambda x: x['sentences'][np.argmax(x['objective_QA_weights'])], axis=1)\n",
    "df_report_check['top_ROOT_QA']       = df_report.apply(lambda x: x['verbs_ROOT'][np.argmax(x['objective_QA_weights'])], axis=1)\n",
    "\n",
    "# With n_weights\n",
    "df_report_check['top_sentence_n']   = df_report.apply(lambda x: x['sentences'][np.argmax(x['n_weights'])], axis=1)\n",
    "df_report_check['top_ROOT_n']       = df_report.apply(lambda x: x['verbs_ROOT'][np.argmax(x['n_weights'])], axis=1)\n",
    "\n",
    "# Check if top_nsentence is equal to top sentence\n",
    "df_report_check['is_equal'] = df_report_check['top_sentence_QA'] == df_report_check['top_sentence_w']\n",
    "df_report_check['is_last'] = df_report['n_weights'].apply(np.argmax)==df_report['n_weights'].apply(len)-1"
   ]
  },
  {
   "cell_type": "code",
   "execution_count": null,
   "metadata": {},
   "outputs": [],
   "source": [
    "\n",
    "# Export the results to an excel file\n",
    "path_export_file = os.path.join('out', bib_file+'_export_tockens_part2.xlsx')\n",
    "df_report_check.to_excel(path_export_file, index=True)"
   ]
  },
  {
   "cell_type": "code",
   "execution_count": null,
   "metadata": {},
   "outputs": [],
   "source": [
    "item_exp = 157\n",
    "abstract = df_report['abstract'][item_exp]\n",
    "w_exp = df_report['n_weights'][item_exp]\n",
    "verbs = df_report['verbs_ROOT'][item_exp]\n",
    "subjects = df_report['subjects'][item_exp]\n",
    "item = np.argmax(w_exp).item()\n",
    "\n",
    "print(item, verbs[item])\n",
    "for i, sentence in enumerate(extract_sentences(abstract)):\n",
    "    print(i, f'{w_exp[i]*100:,.1f}', verbs[i], subjects[i])\n",
    "    print(sentence)\n"
   ]
  },
  {
   "cell_type": "code",
   "execution_count": null,
   "metadata": {},
   "outputs": [],
   "source": [
    "def extract_phrase2(sentences):\n",
    "    result = []\n",
    "    for i, sentence in enumerate(sentences):\n",
    "        doc = nlp(sentence)\n",
    "        phrase_list = []\n",
    "        for token in doc:\n",
    "            # Check for phrases like \"in this review\" based on dependency tags and part-of-speech tags\n",
    "            if token.dep_ in ('prep') and token.head.dep_ == 'ROOT':\n",
    "                start = token.i\n",
    "                end = [child.i for child in token.children if child.dep_ == 'pobj']\n",
    "                if end:\n",
    "                    end = end[0]\n",
    "                    phrase_list.append( ' '.join([t.lemma_.lower() for t in doc[start:end+1]]))\n",
    "        result.append(phrase_list)\n",
    "    return result\n",
    "\n",
    "txt = ['For this production pathway, a high renewable energy potential, especially in solar energy, is crucial.']\n",
    "\n",
    "print(extract_phrase2(txt))\n"
   ]
  },
  {
   "cell_type": "code",
   "execution_count": null,
   "metadata": {},
   "outputs": [],
   "source": [
    "text = 'We conclude that H2 geo-storage in deep coal seams is feasible from a fundamental petro-physical perspective; this work thus aids in the large-scale implementation of a hydrogen economy.'\n",
    "doc = nlp(text)\n",
    "\n",
    "for token in doc:\n",
    "    # if token is verb\n",
    "    if token.dep_ == 'dobj' or token.dep_ == 'nsubjpass':\n",
    "        print(token.head.text, token.text)\n",
    "\n",
    "for token in doc:\n",
    "    # if token is verb\n",
    "    if token.dep_ == 'ROOT':\n",
    "        subj = [child.lemma_ for child in token.children if child.dep_ == 'nsubj']\n",
    "        print(token.lemma_, subj)\n",
    "\n",
    "displacy.render(doc, style='dep', jupyter=True)\n"
   ]
  },
  {
   "cell_type": "code",
   "execution_count": null,
   "metadata": {},
   "outputs": [],
   "source": [
    "# Load a pre-trained QA model and tokenizer\n",
    "qa_pipeline = pipeline('question-answering', model=\"distilbert-base-uncased-distilled-squad\", device=0)\n",
    "\n",
    "# Function to find the objective of the paper\n",
    "def objective_finder_qa(paragraph, question):\n",
    "    result = qa_pipeline(question=question, context=paragraph)\n",
    "    \n",
    "    doc = nlp(paragraph)\n",
    "    # Find whole sentence where the answer is\n",
    "    for sent in doc.sents:\n",
    "        if sent.start_char <= result['start'] and sent.end_char >= result['end']:\n",
    "            sentence = sent.text\n",
    "            break        \n",
    "        else:\n",
    "            sentence = 'Not found'\n",
    "        \n",
    "    return result['answer'], sentence\n",
    "\n",
    "# Define the question to be asked\n",
    "queries = [\n",
    "    \"What is the objective of this paper/work/study?\",\n",
    "    \"What does the paper/work/study analyze?\",\n",
    "    \"What question is addressed in the paper/work/study?\",\n",
    "    \"What research question does this study aim to answer?\",\n",
    "    \"What is the main purpose of the paper/work/study?\",\n",
    "    \"What this paper/work/study investigate?\"\n",
    "    \"What does this study seek to accomplish?\"   \n",
    "    ]\n",
    "\n",
    "for i in range(len(queries)):\n",
    "   df_base[f'QA_objective_{i+1}'] = df_base['abstract'].apply(objective_finder_qa, question=queries[i])\n"
   ]
  },
  {
   "cell_type": "code",
   "execution_count": null,
   "metadata": {},
   "outputs": [],
   "source": [
    "# Check the results\n",
    "df_base.columns\n"
   ]
  },
  {
   "cell_type": "markdown",
   "metadata": {},
   "source": [
    "### Clustering"
   ]
  },
  {
   "cell_type": "code",
   "execution_count": null,
   "metadata": {},
   "outputs": [],
   "source": [
    "# From the save information, create a dataframe\n",
    "bib_file        = 'search_001'\n",
    "path_export_file = os.path.join('out', bib_file+'_export_tockens_part2.xlsx')\n",
    "df_report_check = pd.read_excel(path_export_file)\n",
    "print(df_report_check.columns)"
   ]
  },
  {
   "cell_type": "code",
   "execution_count": null,
   "metadata": {},
   "outputs": [],
   "source": [
    "# Tokens to be used\n",
    "df_report_check['tokens_objective'] = df_report_check['top_sentence_n'].apply(extractor)"
   ]
  },
  {
   "cell_type": "code",
   "execution_count": null,
   "metadata": {},
   "outputs": [],
   "source": [
    "# Clustering\n",
    "#import umap\n",
    "import umap.umap_ as umap\n",
    "import hdbscan\n",
    "from sklearn.metrics import silhouette_score, davies_bouldin_score, calinski_harabasz_score\n",
    "from sklearn.metrics import silhouette_samples\n",
    "import matplotlib.cm as cm\n",
    "\n",
    "model = SentenceTransformer(\"all-MiniLM-L6-v2\", similarity_fn_name=SimilarityFunction.COSINE, device=0)\n",
    "\n",
    "df_report_check['for_clustering'] = df_report_check.apply(lambda x: '. '.join([x['title'], x['top_sentence_w']]), axis=1)\n",
    "#df_report_check['for_clustering'] = df_base['abstract']\n",
    "\n",
    "sentences = df_report_check['for_clustering']\n",
    "embeddings = model.encode(sentences)\n",
    "\n",
    "#reduce the dimensionality of the embeddings\n",
    "umap_embeddings = umap.UMAP(n_neighbors=15, n_components=1, metric='cosine').fit_transform(embeddings)\n",
    "\n",
    "# perform clustering on the reduced embeddings\n",
    "cluster = hdbscan.HDBSCAN(min_cluster_size=8, metric='euclidean', cluster_selection_method='eom').fit(umap_embeddings)\n",
    "\n",
    "# extract the cluster labels\n",
    "df_report_check['cluster'] = cluster.labels_\n",
    "\n",
    "\n",
    "\n",
    "cluster_labels = cluster.labels_\n",
    "\n",
    "# Calculate silhouette scores\n",
    "silhouette_avg = silhouette_score(umap_embeddings, cluster_labels)\n",
    "sample_silhouette_values = silhouette_samples(umap_embeddings, cluster_labels)\n",
    "\n",
    "# Plot silhouette scores\n",
    "def plot_silhouette(umap_embeddings, cluster_labels, sample_silhouette_values, silhouette_avg):\n",
    "    fig, ax1 = plt.subplots(1, 1)\n",
    "    fig.set_size_inches(10, 8)\n",
    "    \n",
    "    # The silhouette coefficient can range from -1, 1\n",
    "    ax1.set_xlim([-0.1, 1])\n",
    "    # The (n_clusters+1)*10 is for inserting blank space between silhouette plots of individual clusters\n",
    "    ax1.set_ylim([0, len(umap_embeddings) + (len(set(cluster_labels)) + 1) * 10])\n",
    "\n",
    "    y_lower = 10\n",
    "    for i in range(len(set(cluster_labels))):\n",
    "        ith_cluster_silhouette_values = sample_silhouette_values[cluster_labels == i]\n",
    "        ith_cluster_silhouette_values.sort()\n",
    "\n",
    "        size_cluster_i = ith_cluster_silhouette_values.shape[0]\n",
    "        y_upper = y_lower + size_cluster_i\n",
    "\n",
    "        color = cm.nipy_spectral(float(i) / len(set(cluster_labels)))\n",
    "        ax1.fill_betweenx(np.arange(y_lower, y_upper), 0, ith_cluster_silhouette_values,\n",
    "                          facecolor=color, edgecolor=color, alpha=0.7)\n",
    "\n",
    "        ax1.text(-0.05, y_lower + 0.5 * size_cluster_i, str(i))\n",
    "\n",
    "        y_lower = y_upper + 10\n",
    "\n",
    "    ax1.set_title(\"Silhouette plot for the various clusters\")\n",
    "    ax1.set_xlabel(\"Silhouette coefficient values\")\n",
    "    ax1.set_ylabel(\"Cluster label\")\n",
    "\n",
    "    ax1.axvline(x=silhouette_avg, color=\"red\", linestyle=\"--\")\n",
    "\n",
    "    ax1.set_yticks([])  # Clear the yaxis labels / ticks\n",
    "    ax1.set_xticks(np.arange(-0.1, 1.1, 0.2))\n",
    "\n",
    "    plt.show()\n",
    "\n",
    "# Plot the silhouette scores\n",
    "plot_silhouette(umap_embeddings, cluster_labels, sample_silhouette_values, silhouette_avg)"
   ]
  },
  {
   "cell_type": "code",
   "execution_count": null,
   "metadata": {},
   "outputs": [],
   "source": [
    "# Print tokens of the clusters\n",
    "tokens = df_report_check['tokens_objective']\n",
    "\n",
    "# Topic modeling\n",
    "from collections import defaultdict\n",
    "\n",
    "# group texts by cluster\n",
    "cluster_texts = defaultdict(list)\n",
    "for _tokens, label in zip(tokens, cluster_labels):\n",
    "    cluster_texts[label].append(_tokens)\n",
    "\n",
    "# Get the more representative tokens of each cluster\n",
    "def get_representative_tokens(tokens):\n",
    "    # Flatten the list of tokens\n",
    "    ents = [ent for sublist in tokens for ent in sublist]\n",
    "    # Count the tokens\n",
    "    token_counts = Counter(ents)\n",
    "    # Get the most common tokens\n",
    "    common_tokens = token_counts.most_common(10)\n",
    "    return common_tokens\n",
    "\n",
    "# Get the most representative tokens for each cluster\n",
    "cluster_representative_tokens = {\n",
    "    label: get_representative_tokens(tokens) for label, tokens in cluster_texts.items()\n",
    "}\n",
    "# Print the most representative tokens for each cluster\n",
    "for label, tokens in cluster_representative_tokens.items():\n",
    "    print(f\"Cluster {label}: {tokens}\")\n",
    "    print(\"----\")   "
   ]
  },
  {
   "cell_type": "markdown",
   "metadata": {},
   "source": [
    "#### Analisys using the title similarity with the abstract "
   ]
  },
  {
   "cell_type": "code",
   "execution_count": null,
   "metadata": {},
   "outputs": [],
   "source": [
    "# Check similarity between the title and the abstract\n",
    "\n",
    "model_similarity = SentenceTransformer(\"all-MiniLM-L6-v2\", similarity_fn_name=SimilarityFunction.COSINE)\n",
    "\n",
    "def similarity_title_abstract(title, abstract):\n",
    "    # Find the similarity between the title and the abstract\n",
    "    embeddings_title    = model_similarity.encode(title)\n",
    "    sentences           = extract_sentences(abstract)\n",
    "    embeddings_abstract = model_similarity.encode(sentences)\n",
    "\n",
    "    similarities        = util.pytorch_cos_sim(embeddings_title, embeddings_abstract)[0]\n",
    "\n",
    "    # Return the sentence with the highest similarity\n",
    "    max_sim_index = np.argmax(similarities)\n",
    "    return sentences[max_sim_index] , float(similarities[max_sim_index])\n",
    "    \n",
    "# Apply the function to the dataframe\n",
    "df_base['similarity_title_abstract'] = df_base.apply(lambda x: similarity_title_abstract(x['title'], x['abstract']), axis=1)\n",
    "\n",
    "# Check the results\n",
    "df_base['similarity_title_abstract'][0]"
   ]
  },
  {
   "cell_type": "markdown",
   "metadata": {},
   "source": [
    "#### Check if the objective sentence is found"
   ]
  },
  {
   "cell_type": "code",
   "execution_count": null,
   "metadata": {},
   "outputs": [],
   "source": [
    "# Check if the sentences are the same\n",
    "df_report = df_base[['title', 'abstract']].copy()\n",
    "for i in range(len(queries)):\n",
    "    df_report[f'QA_objective_{i+1}'] = df_base[f'QA_objective_{i+1}'].apply(lambda x: x[1])\n",
    "\n",
    "df_report['QA_objective_0'] = df_base['similarity_title_abstract'].apply(lambda x: x[0])\n",
    "\n",
    "\n",
    "qa_columns = df_report.filter(like='QA_objective')\n",
    "# From the columns select the most repeated sentence\n",
    "df_report['objective'] = qa_columns.mode(axis=1)[0]\n",
    "\n",
    "# Check the how much the mode is repeated\n",
    "df_report['objective_count'] = qa_columns.apply(lambda x: x.value_counts().get(df_report.loc[x.name, 'objective'], 0), axis=1)\n",
    "\n",
    "# Tokenize the objective\n",
    "df_report['tokens_objective'] = df_report['objective'].apply(nlp)\n",
    "\n",
    "# Function to look for verbs and  dobj in the objective\n",
    "def look_for_verbs_dobj(text):\n",
    "    doc = nlp(text)\n",
    "    for token in doc:\n",
    "        if token.dep_ == 'dobj':\n",
    "            value = token.head.lemma_+token.lemma_.capitalize()\n",
    "            return value\n",
    "df_report['verbs_objective'] = df_report['tokens_objective'].apply(look_for_verbs_dobj)\n",
    "\n",
    "# Export the results to an excel file\n",
    "df_report.to_excel('results_objective.xlsx', index=False)"
   ]
  },
  {
   "cell_type": "code",
   "execution_count": null,
   "metadata": {},
   "outputs": [],
   "source": [
    "# From the results import the file\n",
    "report      = 'results_objective.xlsx'\n",
    "df_report   = pd.read_excel(report)\n",
    "print(df_report.columns)\n"
   ]
  },
  {
   "cell_type": "code",
   "execution_count": null,
   "metadata": {},
   "outputs": [],
   "source": [
    "# Function to look for verbs in the objective\n",
    "def look_for_verbs_dobj(text):\n",
    "    doc = nlp(text)\n",
    "    for token in doc:\n",
    "        if token.dep_ == 'dobj' or token.dep_ == 'nsubjpass':\n",
    "            value = token.head.lemma_\n",
    "            return value\n",
    "df_report['verbs_objective'] = df_report['tokens_objective'].apply(look_for_verbs_dobj)\n",
    "\n",
    "# Function to look for verbs in the objective\n",
    "def look_for_verbs_ROOT(text):\n",
    "    doc = nlp(text)\n",
    "    for token in doc:\n",
    "        if token.dep_ == 'ROOT':\n",
    "            value = token.head.lemma_\n",
    "            return value\n",
    "df_report['verbs_ROOT'] = df_report['tokens_objective'].apply(look_for_verbs_ROOT)"
   ]
  },
  {
   "cell_type": "code",
   "execution_count": null,
   "metadata": {},
   "outputs": [],
   "source": [
    "summarizer = pipeline(\"summarization\", model=\"Falconsai/text_summarization\")\n",
    "# Apply function only if verb is not found\n",
    "txt = 'This paper aims to address this by developing a flexible techno-economic analysis (TEA) tool that can be used to evaluate the potential of future scenarios where hydrogen is produced, stored, and distributed within a region.'\n",
    "summ = summarizer(txt, max_length=20, min_length=0, do_sample=True)\n",
    "print(summ)"
   ]
  },
  {
   "cell_type": "code",
   "execution_count": null,
   "metadata": {},
   "outputs": [],
   "source": [
    "from allennlp.predictors.predictor import Predictor\n",
    "\n",
    "\n",
    "# Load the SRL model from AllenNLP\n",
    "predictor = Predictor.from_path(\"https://storage.googleapis.com/allennlp-public-models/bert-base-srl-2020.11.19.tar.gz\")\n"
   ]
  },
  {
   "cell_type": "code",
   "execution_count": null,
   "metadata": {},
   "outputs": [],
   "source": [
    "\n",
    "# Define the sentence to be analyzed\n",
    "sentence = \"In this study, life cycle techno-economic and carbon footprint analysis is conducted to investigate the feasibility of the NH3 decomposition process in terms of economic performance and CO2 emissions.\"\n",
    "\n",
    "# Use the predictor to analyze the sentence\n",
    "result = predictor.predict(sentence=sentence)\n",
    "\n",
    "doc = nlp(sentence)\n",
    "\n",
    "def look_for_verbs_ROOT(text):\n",
    "    doc = nlp(text)\n",
    "    for token in doc:\n",
    "        if token.dep_ == 'ROOT':\n",
    "            value = token.head.lemma_\n",
    "            return value\n",
    "print(look_for_verbs_ROOT(sentence))\n",
    "\n",
    "displacy.render(doc, style='dep', jupyter=True, options={'distance': 90})\n",
    "\n",
    "#\n",
    "#  Extract verbs and their arguments from the result\n",
    "verbs = result['verbs']\n",
    "\n",
    "# Function to parse the description and extract arguments\n",
    "def extract_arguments(description):\n",
    "    arguments = []\n",
    "    current_arg = \"\"\n",
    "    inside_arg = False\n",
    "    for char in description:\n",
    "        if char == \"[\":\n",
    "            inside_arg = True\n",
    "            current_arg = \"\"\n",
    "        elif char == \"]\":\n",
    "            inside_arg = False\n",
    "            if current_arg:\n",
    "                arguments.append(current_arg.strip())\n",
    "        elif inside_arg:\n",
    "            current_arg += char\n",
    "    return arguments\n",
    "\n",
    "# Extract and print the arguments for each verb\n",
    "for verb in verbs:\n",
    "    print(f\"Verb: {verb['verb']}\")\n",
    "    arguments = extract_arguments(verb['description'])\n",
    "    for arg in arguments:\n",
    "        print(arg)\n",
    "    print()"
   ]
  },
  {
   "cell_type": "code",
   "execution_count": null,
   "metadata": {},
   "outputs": [],
   "source": [
    "import spacy\n",
    "import pandas as pd\n",
    "\n",
    "# Load the SpaCy model\n",
    "nlp = spacy.load('en_core_web_sm')\n",
    "\n",
    "# Define your DataFrame\n",
    "data = {\n",
    "    'sentences': [\n",
    "        'In this study, life cycle techno-economic and carbon footprint analysis is conducted to investigate the feasibility of the NH3 decomposition process in terms of economic performance and CO2 emissions.',\n",
    "        'This research was carried out to investigate hydrogen demand and determine the optimum hydrogen delivery network employing truck transportation.',\n",
    "        'This study focuses on the development of a methodological framework for the design of a five-echelon hydrogen supply chain (HSC) (energy source, production, storage, transportation and fuelling station) considering the geographic level of implementation.'\n",
    "    ]\n",
    "}\n",
    "df = pd.DataFrame(data)\n",
    "\n",
    "from transformers import (\n",
    "    TokenClassificationPipeline,\n",
    "    AutoModelForTokenClassification,\n",
    "    AutoTokenizer,\n",
    ")\n",
    "from transformers.pipelines import AggregationStrategy\n",
    "\n",
    "# Define keyphrase extraction pipeline\n",
    "class KeyphraseExtractionPipeline(TokenClassificationPipeline):\n",
    "    def __init__(self, model, *args, **kwargs):\n",
    "        super().__init__(\n",
    "            model=AutoModelForTokenClassification.from_pretrained(model),\n",
    "            tokenizer=AutoTokenizer.from_pretrained(model),\n",
    "            *args,\n",
    "            **kwargs\n",
    "        )\n",
    "\n",
    "    def postprocess(self, all_outputs):\n",
    "        results = super().postprocess(\n",
    "            all_outputs=all_outputs,\n",
    "            aggregation_strategy=AggregationStrategy.SIMPLE,\n",
    "        )\n",
    "        return np.unique([result.get(\"word\").strip() for result in results])\n",
    "\n",
    "# Load pipeline\n",
    "model_name = \"ml6team/keyphrase-extraction-kbir-inspec\"\n",
    "extractor = KeyphraseExtractionPipeline(model=model_name)\n",
    "\n",
    "\n",
    "def extract_entities_and_relationships(sentence):\n",
    "    doc = nlp(sentence)\n",
    "    \n",
    "    entities = []\n",
    "    relations = []\n",
    "    \n",
    "    # Extract named entities\n",
    "    for ent in doc.ents:\n",
    "        entities.append(ent.text)\n",
    "    \n",
    "    # Extract relationships based on dependency parsing\n",
    "    for token in doc:\n",
    "        if token.pos_ == 'VERB':\n",
    "            # Find the subject and object for the verb\n",
    "            subject = [child.text for child in token.children if child.dep_ in ['nsubj', 'nsubjpass']]\n",
    "            obj = [child.text for child in token.children if child.dep_ in ['dobj', 'attr']]\n",
    "            relations.append({\n",
    "                'entity': subject,\n",
    "                'relation': token.text,\n",
    "                'context': obj\n",
    "            })\n",
    "    \n",
    "    return entities, relations\n",
    "\n",
    "# Apply extraction function to each sentence\n",
    "df[['entities', 'relations']] = df['sentences'].apply(lambda x: pd.Series(extract_entities_and_relationships(x)))\n",
    "#df['key'] = df['sentences'].apply(extractor)\n",
    "\n",
    "# Display the results\n",
    "print(df[['sentences', 'entities', 'relations']])\n"
   ]
  },
  {
   "cell_type": "code",
   "execution_count": null,
   "metadata": {},
   "outputs": [],
   "source": [
    "import spacy\n",
    "from spacy import displacy\n",
    "\n",
    "# Load the SpaCy model\n",
    "nlp = spacy.load('en_core_web_sm')\n",
    "\n",
    "# Define the sentence to be analyzed\n",
    "sentence = \"In this study, an HSC design that will minimize cost, carbon emission and security risk for Turkey is proposed.\"\n",
    "\n",
    "# Parse the sentence\n",
    "doc = nlp(sentence)\n",
    "\n",
    "# Render the dependency parse tree\n",
    "displacy.render(doc, style='dep', jupyter=True, options={'distance': 90})\n",
    "\n",
    "# Extract verbs and their arguments\n",
    "verbs = [token for token in doc if token.pos_ == 'VERB']\n",
    "for verb in verbs:\n",
    "    print(f\"Verb: {verb.text}\")\n",
    "    print(\"Arguments:\")\n",
    "    for child in verb.children:\n",
    "        if child.dep_ in ['obj', 'nsubj', 'iobj', 'ccomp', 'xcomp']:\n",
    "            print(f\"  - {child.text} ({child.dep_})\")"
   ]
  },
  {
   "cell_type": "code",
   "execution_count": null,
   "metadata": {},
   "outputs": [],
   "source": [
    "from allennlp.interpret.saliency_interpreters import SimpleGradient\n",
    "from allennlp.predictors import Predictor\n",
    "\n",
    "inputs = {\"sentence\": \"a very well-made, funny and entertaining picture.\"}\n",
    "archive = (\n",
    "    \"https://storage.googleapis.com/allennlp-public-models/\"\n",
    "    \"basic_stanford_sentiment_treebank-2020.06.09.tar.gz\"\n",
    ")\n",
    "predictor = Predictor.from_path(archive)\n",
    "interpreter = SimpleGradient(predictor)\n",
    "interpretation = interpreter.saliency_interpret_from_json(inputs)\n",
    "\n",
    "print(interpretation)"
   ]
  },
  {
   "cell_type": "code",
   "execution_count": null,
   "metadata": {},
   "outputs": [],
   "source": [
    "df_check = df_report[['abstract','objective', 'verbs_objective', 'summary', 'verbs_ROOT']]"
   ]
  },
  {
   "cell_type": "markdown",
   "metadata": {},
   "source": [
    "Core Arguments:\n",
    "\n",
    "    ARG0: The agent or doer of the action (typically the subject).\n",
    "    ARG1: The patient or receiver of the action (typically the direct object).\n",
    "    ARG2: The instrument, benefactive, or attribute (often used for indirect objects).\n",
    "    ARG3: The starting point, benefactive, or attribute (used for specific verbs).\n",
    "    ARG4: The ending point or result (used for specific verbs).\n",
    "\n",
    "Adjunct Arguments (Modifiers):\n",
    "\n",
    "    ARGM-TMP: Temporal, indicating when the action took place.\n",
    "    ARGM-LOC: Locative, indicating where the action took place.\n",
    "    ARGM-DIR: Directional, indicating the direction of the action.\n",
    "    ARGM-MNR: Manner, indicating how the action was performed.\n",
    "    ARGM-EXT: Extent, indicating how much of the action took place.\n",
    "    ARGM-PRP: Purpose, indicating why the action was performed.\n",
    "    ARGM-PNC: Purpose\n",
    "    ARGM-CAU: Cause, indicating the reason for the action.\n",
    "    ARGM-DIS: Discourse, indicating discourse markers (e.g., however, therefore).\n",
    "    ARGM-ADV: General adverbials not covered by other tags.\n",
    "    ARGM-MOD: Modal, indicating the modality of the action (e.g., can, might).\n",
    "    ARGM-NEG: Negation, indicating the negation of the action.\n",
    "    ARGM-COM: Comitative, indicating accompaniment (e.g., \"with\")."
   ]
  },
  {
   "cell_type": "code",
   "execution_count": null,
   "metadata": {},
   "outputs": [],
   "source": [
    "from allennlp_models import pretrained\n",
    "from allennlp.predictors import Predictor\n",
    "\n",
    "# Load the SRL predictor\n",
    "predictor = pretrained.load_predictor(\"structured-prediction-srl\")\n",
    "\n",
    "# Define the sentence to be analyzed\n",
    "sentence = \"In the current study, strengths, weaknesses, opportunities, and threats (SWOT) analysis has been successfully applied to the clean hydrogen value chain in different sectors to determine Japan’s clean hydrogen value chain’s strengths, weaknesses, opportunities, and threats as a case study.\"\n",
    "\n",
    "# Use the predictor to analyze the sentence\n",
    "result = predictor.predict(sentence=sentence)\n",
    "\n",
    "# Display the result\n",
    "for verb in result['verbs']:\n",
    "    print(f\"Verb: {verb['verb']}\")\n",
    "    tags = verb['tags']\n",
    "    words = result['words']\n",
    "    arg_dict = {}\n",
    "    current_arg = None\n",
    "    for word, tag in zip(words, tags):\n",
    "        if tag.startswith(\"B-\"):\n",
    "            current_arg = tag[2:]\n",
    "            arg_dict[current_arg] = [word]\n",
    "        elif tag.startswith(\"I-\") and current_arg:\n",
    "            arg_dict[current_arg].append(word)\n",
    "        else:\n",
    "            current_arg = None\n",
    "    for arg, words in arg_dict.items():\n",
    "        print(f\"{arg}: {' '.join(words)}\")\n",
    "    print(\"\\n\")\n",
    "\n",
    "for token in nlp(sentence):\n",
    "    if token.dep_ == 'ROOT':\n",
    "        print(token.head.lemma_)\n",
    "\n",
    "displacy.render(nlp(sentence), style='dep', jupyter=True, options={'distance': 90})\n",
    "spacy.explain('acl')"
   ]
  },
  {
   "cell_type": "code",
   "execution_count": null,
   "metadata": {},
   "outputs": [],
   "source": [
    "from transformers import AutoTokenizer, AutoModelForTokenClassification\n",
    "from transformers import pipeline\n",
    "\n",
    "# Load pre-trained model and tokenizer\n",
    "tokenizer = AutoTokenizer.from_pretrained(\"distilbert-base-uncased\")\n",
    "model = AutoModelForTokenClassification.from_pretrained(\"distilbert-base-uncased\")\n",
    "\n",
    "# Create a pipeline for token classification\n",
    "nlp_pipeline = pipeline(\"token-classification\", model=model, tokenizer=tokenizer)\n",
    "\n",
    "# Define the sentence to be analyzed\n",
    "sentence = \"In this study, life cycle techno-economic and carbon footprint analysis is conducted to investigate the feasibility of the NH3 decomposition process in terms of economic performance and CO2 emissions.\"\n",
    "\n",
    "# Tokenize and classify the sentence\n",
    "tokens = nlp_pipeline(sentence)\n",
    "\n",
    "# Display the tokens and their labels\n",
    "for token in tokens:\n",
    "    print(f\"Word: {token['word']}, Entity: {token['entity']}\")\n"
   ]
  },
  {
   "cell_type": "code",
   "execution_count": null,
   "metadata": {},
   "outputs": [],
   "source": [
    "doc = 'The minimization of the total hydrogen supply chain (HSC) network cost for Germany in 2030 and 2050 years is the objective of this study.'\n",
    "def look_for_verbs_dobj(text):\n",
    "    doc = nlp(text)\n",
    "    for token in doc:\n",
    "        if token.dep_ == 'dobj':\n",
    "            value = token.head.lemma_+token.lemma_.capitalize()\n",
    "            return value\n",
    "\n",
    "print(look_for_verbs_dobj(doc))\n",
    "\n",
    "doc = nlp(doc)\n",
    "displacy.render(doc, style='dep', jupyter=True, options={'distance': 90})\n",
    "spacy.explain('nsubjpass')"
   ]
  },
  {
   "cell_type": "code",
   "execution_count": null,
   "metadata": {},
   "outputs": [],
   "source": [
    "\n",
    "# Define a function to determine the 'is_objective' value\n",
    "def determine_objective(obj1, obj2, obj3, con3, con4):\n",
    "\n",
    "    dictionary = ['review', 'paper', 'study', 'work']\n",
    "\n",
    "    def contains_keywords(obj, keywords):\n",
    "        for word in keywords:\n",
    "            if word in nlp(obj):\n",
    "                return True\n",
    "        return False\n",
    "\n",
    "    if obj1==obj2 or obj1==obj3:\n",
    "        if obj1==con3 or obj1==con4:\n",
    "            return 'is conclusion'\n",
    "        else:\n",
    "            return '1 and (2 or 3) are the same'\n",
    "    elif obj2==obj3:\n",
    "        if obj2==con3 or obj2==con4:\n",
    "            return 'is conclusion'\n",
    "        else:\n",
    "            return '2 and 3 are the same'\n",
    "    else:\n",
    "        if contains_keywords(obj1, dictionary):\n",
    "            return 'key on obj1'\n",
    "        elif contains_keywords(obj2, dictionary):\n",
    "            return 'key on obj2'\n",
    "        elif contains_keywords(obj3, dictionary):\n",
    "            return 'key on obj3'\n",
    "        return None\n",
    "    \n",
    "# Apply the function to the dataframe\n",
    "df_report['is_objective'] = df_report.apply(lambda x: determine_objective(x['QA_objective_1'], x['QA_objective_2'], x['similarity_title_abstract'], x['QA_objective_3'], x['QA_objective_4']), axis=1)\n",
    "\n",
    "# Export the results to an excel file\n",
    "df_report.to_excel('results_objective.xlsx', index=False)"
   ]
  },
  {
   "cell_type": "code",
   "execution_count": null,
   "metadata": {},
   "outputs": [],
   "source": [
    "from sentence_transformers import CrossEncoder\n",
    "\n",
    "# Load the model, here we use our base sized model\n",
    "model = CrossEncoder(\"mixedbread-ai/mxbai-rerank-large-v1\")\n",
    "\n",
    "df_base['sentences'] = df_base['abstract'].apply(extract_sentences)\n"
   ]
  },
  {
   "cell_type": "code",
   "execution_count": null,
   "metadata": {},
   "outputs": [],
   "source": [
    "from sentence_transformers import SentenceTransformer\n",
    "import numpy as np\n",
    "model = SentenceTransformer('BAAI/bge-large-zh-v1.5')\n",
    "\n",
    "txt = \"Green ammonia production as an important application for propelling the upcoming hydrogen economy has not been paid much attention by China, the world's largest ammonia producer. As a result, related studies are limited. This paper explores potential supply chain design and planning strategies of green ammonia production in the next decade of China with a case study in Inner Mongolia. A hybrid optimization-based simulation approach is applied, considering traditional optimization approaches are insufficient to address uncertainties and dynamics in a long-term energy transition. Results show that the production cost of green ammonia will be at least twice that of the current level due to higher costs of hydrogen supply. Production accounts for the largest share of the total expense of green hydrogen (~80 %). The decline of electricity and electrolyser prices are key in driving down the overall costs. In addition, by-product oxygen is also considered in the model to assess its economic benefits. We found that by-product oxygen sales could partly reduce the total expense of green hydrogen (~12 % at a price of USD 85/t), but it also should be noted that the volatile price of oxygen may pose uncertainties and risks to the effectiveness of the offset. Since the case study may represent the favourable conditions in China due to the abundant renewable energy resources and large-scale ammonia industry in this region, we propose to take a moderate step towards green ammonia production, and policies should be focused on reducing the electricity price and capital investments in green hydrogen production. We assume the findings and implications are informative to planning future green ammonia production in China. \"\n",
    "sentences = txt.split('.')\n",
    "\n",
    "queries = [\n",
    "    'Exploring supply chain design and expansion planning of Chinas green ammonia production with an optimization-based simulation approach',\n",
    "]\n",
    "instruction = 'Represent this sentence for searching relevant passages: '\n",
    "\n",
    "query_embedding = model.encode([instruction+q for q in queries], normalize_embeddings=True)\n",
    "sentence_embeddings = model.encode(sentences, normalize_embeddings=True)\n"
   ]
  },
  {
   "cell_type": "code",
   "execution_count": null,
   "metadata": {},
   "outputs": [],
   "source": [
    "\n",
    "\n",
    "similarity = sentence_embeddings @ query_embedding.T\n",
    "print(similarity)\n",
    "print(sentences[np.argmax(similarity)])"
   ]
  },
  {
   "cell_type": "code",
   "execution_count": null,
   "metadata": {},
   "outputs": [],
   "source": [
    "import torch\n",
    "\n",
    "torch.cuda.empty_cache()\n",
    "torch.cuda.memory_summary(device=None, abbreviated=False)"
   ]
  },
  {
   "cell_type": "code",
   "execution_count": null,
   "metadata": {},
   "outputs": [],
   "source": [
    "from sentence_transformers import SentenceTransformer, SimilarityFunction\n",
    "\n",
    "model = SentenceTransformer(\"all-MiniLM-L6-v2\", similarity_fn_name=SimilarityFunction.DOT_PRODUCT)\n",
    "\n",
    "# Compute embeddings for the sentences\n",
    "\n",
    "expressions_objective = [\n",
    "    'This paper presents how to implement a sustainable transportation solution',\n",
    "    'This article proposes a coordinated planning model of power system generation and transmission',\n",
    "    'In this paper, we propose an optimal scheduling framework for trans-energy systems that evaluates the merits of the hydrogen supply chain',\n",
    "    'This study aims at developing the Hydrogen Economics and InfRAstructure optimization model',\n",
    "    'On this basis, an integrated HSC-EN model is elaborated upon to investigate the optimal investment and operation'\n",
    "]\n",
    "\n",
    "demo_sentence = df_base['sentences'][319]\n",
    "demo_title = df_base['title'][319]\n",
    "\n",
    "embeddings_sentence = model.encode(demo_sentence)\n",
    "embeddings_checks   = model.encode(expressions_objective)\n",
    "\n",
    "similarities = model.similarity(embeddings_sentence, embeddings_checks)\n",
    "\n",
    "# Print the similarity scores\n",
    "print(similarities)\n",
    "\n",
    "# Initialize lists to store results\n",
    "average_similarities = []\n",
    "highest_similarity_sentences = []\n",
    "\n",
    "# Calculate similarities for each demo sentence\n",
    "for i, demo_embedding in enumerate(embeddings_sentence):\n",
    "    # Calculate similarity scores with all expressions_objective\n",
    "    similarities = np.dot(embeddings_checks, demo_embedding) / (\n",
    "        np.linalg.norm(embeddings_checks, axis=1) * np.linalg.norm(demo_embedding)\n",
    "    )\n",
    "    \n",
    "    # Get the average similarity\n",
    "    average_similarity = np.mean(similarities)\n",
    "    average_similarities.append(average_similarity)\n",
    "    \n",
    "    # Find the index of the highest similarity\n",
    "    highest_similarity_index = np.argmax(similarities)\n",
    "    highest_similarity_sentence = expressions_objective[highest_similarity_index]\n",
    "    highest_similarity_sentences.append(highest_similarity_sentence)\n",
    "\n",
    "    # Print results for each demo sentence\n",
    "    print(f\"Demo Sentence: {demo_sentence[i]}\")\n",
    "    print(f\"Average Similarity: {average_similarity}\")\n",
    "    print(f\"Highest Similarity Sentence: {highest_similarity_sentence}\")\n",
    "    print(\"----\")\n"
   ]
  },
  {
   "cell_type": "code",
   "execution_count": null,
   "metadata": {},
   "outputs": [],
   "source": [
    "# Clustering\n",
    "sentences = df_base['abstract']\n",
    "embeddings = model.encode(sentences)\n",
    "\n",
    "import umap.umap_ as umap\n",
    "#reduce the dimensionality of the embeddings\n",
    "umap_embeddings = umap.UMAP(n_neighbors=2, n_components=5, metric='cosine').fit_transform(embeddings)\n",
    "\n",
    "import hdbscan\n",
    "# perform clustering on the reduced embeddings\n",
    "cluster = hdbscan.HDBSCAN(min_cluster_size=15, metric='euclidean', cluster_selection_method='eom').fit(umap_embeddings)\n",
    "\n",
    "# extract the cluster labels\n",
    "df_base['cluster'] = cluster.labels_\n",
    "cluster_labels = df_base['cluster']\n",
    "#cluster_labels = cluster.labels_\n",
    "\n",
    "# Topic modeling\n",
    "from collections import defaultdict\n",
    "\n",
    "# group texts by cluster\n",
    "cluster_texts = defaultdict(list)\n",
    "for text, label in zip(sentences, cluster_labels):\n",
    "    cluster_texts[label].append(text)\n"
   ]
  },
  {
   "cell_type": "code",
   "execution_count": null,
   "metadata": {},
   "outputs": [],
   "source": [
    "\n",
    "# Export the clusters\n",
    "df_results = df_base[['title', 'abstract', 'cluster', 'objective']]\n",
    "df_results.to_excel('clusters.xlsx', index=False)\n"
   ]
  },
  {
   "cell_type": "code",
   "execution_count": null,
   "metadata": {},
   "outputs": [],
   "source": [
    "# Get the more representative tokens of each cluster\n",
    "def get_representative_tokens(texts):\n",
    "    #get the ents\n",
    "    #docs = nlp(\" \".join(texts))\n",
    "    ents = extractor(\" \".join(texts))\n",
    "    # Count the tokens\n",
    "    token_counts = Counter(ents)\n",
    "    # Get the most common tokens\n",
    "    common_tokens = token_counts.most_common(10)\n",
    "    return common_tokens\n",
    "\n",
    "# Get the most representative tokens for each cluster\n",
    "cluster_representative_tokens = {\n",
    "    label: get_representative_tokens(texts) for label, texts in cluster_texts.items()\n",
    "}\n",
    "# Print the most representative tokens for each cluster\n",
    "for label, tokens in cluster_representative_tokens.items():\n",
    "    print(f\"Cluster {label}: {tokens}\")\n",
    "    print(\"----\")   "
   ]
  },
  {
   "cell_type": "code",
   "execution_count": null,
   "metadata": {},
   "outputs": [],
   "source": [
    "for label in np.unique(cluster_labels):\n",
    "    if label == -1:\n",
    "        continue\n",
    "    cluster_indices = np.where(cluster_labels == label)[0]\n",
    "    cluster_center = np.mean(umap_embeddings[cluster_indices], axis=0)\n",
    "    closest_index = cluster_indices[np.argmin(np.linalg.norm(umap_embeddings[cluster_indices] - cluster_center, axis=1))]\n",
    "    print(f\"Most representative text for cluster {label}: {sentences[closest_index]}\")"
   ]
  },
  {
   "cell_type": "code",
   "execution_count": null,
   "metadata": {},
   "outputs": [],
   "source": [
    "# print the sentences for cluster 0\n",
    "cluster_0_indices = np.where(cluster_labels == 1)[0]\n",
    "cluster_0_sentences = [sentences[i] for i in cluster_0_indices]\n",
    "print(cluster_0_sentences)"
   ]
  },
  {
   "cell_type": "code",
   "execution_count": null,
   "metadata": {},
   "outputs": [],
   "source": [
    "\n",
    "def objective_finder_rank(documents, question):\n",
    "    # Use the CrossEncoder to find the answer\n",
    "    try:\n",
    "        result = model.rank(question, documents, return_documents=True, top_k=1)\n",
    "        return result\n",
    "    \n",
    "    except Exception as e:\n",
    "        print(f\"Error processing paragraph: {e}\")\n",
    "        return None\n",
    "\n",
    "# Create column with the objective of the paper\n",
    "question = \"What is the objective of this paper/work/study?\"\n",
    "#df_base['objective_rank'] = df_base['sentences'].apply(objective_finder_rank, question=question)\n",
    "\n",
    "# Use parallel processing to speed up the computation\n",
    "#def process_row(row):\n",
    "#    return objective_finder_rank(row['sentences'], question)\n",
    "#\n",
    "#with ThreadPoolExecutor(max_workers=2) as executor:\n",
    "#    df_base['objective_rank'] = list(executor.map(process_row, df_base.to_dict('records')))\n"
   ]
  },
  {
   "cell_type": "code",
   "execution_count": null,
   "metadata": {},
   "outputs": [],
   "source": [
    "\n",
    "# Check the results\n",
    "# extarct the score from the tuple\n",
    "df_base['objective_rank_score'] = df_base['objective_rank'].apply(lambda x: x[0]['score'])\n",
    "\n",
    "df_results = df_base[['title', 'abstract', 'objective_rank_score', 'objective_rank', 'objective']]\n",
    "df_results.to_excel('results.xlsx', index=False)"
   ]
  },
  {
   "cell_type": "code",
   "execution_count": null,
   "metadata": {},
   "outputs": [],
   "source": [
    "from transformers import BertTokenizer, BertForSequenceClassification\n",
    "from transformers import pipeline\n",
    "\n",
    "# Load a pre-trained model fine-tuned on a classification task\n",
    "model_name = \"nlptown/bert-base-multilingual-uncased-sentiment\" # Example model\n",
    "tokenizer = BertTokenizer.from_pretrained(model_name)\n",
    "model = BertForSequenceClassification.from_pretrained(model_name)\n",
    "\n",
    "# Initialize a pipeline for classification\n",
    "classifier = pipeline('sentiment-analysis', model=model, tokenizer=tokenizer)\n"
   ]
  },
  {
   "cell_type": "code",
   "execution_count": null,
   "metadata": {},
   "outputs": [],
   "source": [
    "from sentence_transformers import SentenceTransformer\n",
    "model = SentenceTransformer(\"all-MiniLM-L6-v2\")\n",
    "\n",
    "# Compute embeddings for the sentences\n",
    "embeddings_sentence = model.encode(sentences)\n",
    "embeddings_titles = model.encode(title_1)\n",
    "\n",
    "similarities = model.similarity(embeddings_sentence, embeddings_titles)\n",
    "\n",
    "# Print the similarity scores\n",
    "print(similarities)\n",
    "\n",
    "# print sentence with highest similarity\n",
    "print(sentences[np.argmax(similarities)])\n",
    "print(title_1)\n",
    "print(paragraph_1)"
   ]
  },
  {
   "cell_type": "code",
   "execution_count": null,
   "metadata": {},
   "outputs": [],
   "source": [
    "from sentence_transformers import SentenceTransformer\n",
    "model = SentenceTransformer(\"all-MiniLM-L6-v2\")\n",
    "\n"
   ]
  },
  {
   "cell_type": "code",
   "execution_count": null,
   "metadata": {},
   "outputs": [],
   "source": [
    "\n",
    "# Predict the objective\n",
    "title_1 = df_base['title'][0]\n",
    "paragraph_1 = df_base['abstract'][0]\n",
    "\n",
    "\n",
    "# Function to extract sentences from a single document\n",
    "def extract_sentences(text):\n",
    "    doc = nlp(text)  # Process the text with spaCy\n",
    "    sentences = [sent.text.strip() for sent in doc.sents]  # Extract sentences\n",
    "    return sentences\n",
    "\n",
    "# Extract sentences from the paragraph\n",
    "sentences = extract_sentences(paragraph_1)\n",
    "\n",
    "# Predict the sentiment\n",
    "print(title_1)\n",
    "for sentence in sentences:\n",
    "    # print sentence and the sentiment for eaach sentence\n",
    "    print(sentence)\n",
    "    print(classifier(sentence))\n",
    "\n",
    "# Predict the sentiment for the whole paragraph\n",
    "print(classifier(paragraph_1))\n",
    "\n",
    "\n",
    "\n"
   ]
  },
  {
   "cell_type": "code",
   "execution_count": null,
   "metadata": {},
   "outputs": [],
   "source": [
    "\n",
    "# Predict the objective\n",
    "title_1 = df_base['title'][0]\n",
    "paragraph_1 = df_base['abstract'][0]\n",
    "\n",
    "\n",
    "# Function to extract sentences from a single document\n",
    "def extract_sentences(text):\n",
    "    doc = nlp(text)  # Process the text with spaCy\n",
    "    sentences = [sent.text.strip() for sent in doc.sents]  # Extract sentences\n",
    "    return sentences\n",
    "\n",
    "# Extract sentences from the paragraph\n",
    "sentences = extract_sentences(paragraph_1)\n",
    "\n",
    "# Predict the sentiment\n",
    "print(title_1)\n",
    "for sentence in sentences:\n",
    "    # print sentence and the sentiment for eaach sentence\n",
    "    print(sentence)\n",
    "    print(classifier(sentence))\n",
    "\n",
    "# Predict the sentiment for the whole paragraph\n",
    "print(classifier(paragraph_1))\n",
    "\n",
    "\n",
    "\n"
   ]
  },
  {
   "cell_type": "code",
   "execution_count": null,
   "metadata": {},
   "outputs": [],
   "source": [
    "\n",
    "# Predict the objective\n",
    "title_1 = df_base['title'][0]\n",
    "paragraph_1 = df_base['abstract'][0]\n",
    "\n",
    "\n",
    "# Function to extract sentences from a single document\n",
    "def extract_sentences(text):\n",
    "    doc = nlp(text)  # Process the text with spaCy\n",
    "    sentences = [sent.text.strip() for sent in doc.sents]  # Extract sentences\n",
    "    return sentences\n",
    "\n",
    "# Extract sentences from the paragraph\n",
    "sentences = extract_sentences(paragraph_1)\n",
    "\n",
    "# Predict the sentiment\n",
    "print(title_1)\n",
    "for sentence in sentences:\n",
    "    # print sentence and the sentiment for eaach sentence\n",
    "    print(sentence)\n",
    "    print(classifier(sentence))\n",
    "\n",
    "# Predict the sentiment for the whole paragraph\n",
    "print(classifier(paragraph_1))\n",
    "\n",
    "\n",
    "\n"
   ]
  },
  {
   "cell_type": "code",
   "execution_count": null,
   "metadata": {},
   "outputs": [],
   "source": [
    "\n",
    "# Predict the objective\n",
    "title_1 = df_base['title'][0]\n",
    "paragraph_1 = df_base['abstract'][0]\n",
    "\n",
    "\n",
    "# Function to extract sentences from a single document\n",
    "def extract_sentences(text):\n",
    "    doc = nlp(text)  # Process the text with spaCy\n",
    "    sentences = [sent.text.strip() for sent in doc.sents]  # Extract sentences\n",
    "    return sentences\n",
    "\n",
    "# Extract sentences from the paragraph\n",
    "sentences = extract_sentences(paragraph_1)\n",
    "\n",
    "# Predict the sentiment\n",
    "print(title_1)\n",
    "for sentence in sentences:\n",
    "    # print sentence and the sentiment for eaach sentence\n",
    "    print(sentence)\n",
    "    print(classifier(sentence))\n",
    "\n",
    "# Predict the sentiment for the whole paragraph\n",
    "print(classifier(paragraph_1))\n",
    "\n",
    "\n",
    "\n"
   ]
  },
  {
   "cell_type": "code",
   "execution_count": null,
   "metadata": {},
   "outputs": [],
   "source": [
    "from sentence_transformers import SentenceTransformer, CrossEncoder, SimilarityFunction, util\n",
    "\n",
    "# 1. Load a pretrained Sentence Transformer model\n",
    "model = SentenceTransformer(\"all-MiniLM-L6-v2\")\n",
    "\n",
    "query = \"What is the objective of this study?\"\n",
    "\n",
    "# Extract sentences from the paragraph\n",
    "sentences = extract_sentences(paragraph_1)\n",
    "\n",
    "# Compute the embeddings for the query and the sentences\n",
    "query_embedding = model.encode(query, convert_to_tensor=True)\n",
    "sentence_embeddings = model.encode(sentences, convert_to_tensor=True)\n",
    "\n",
    "# Compute cosine similarities between the query and the sentences\n",
    "cosine_scores = util.pytorch_cos_sim(query_embedding, sentence_embeddings)[0]\n",
    "\n",
    "# Rank sentences by similarity score\n",
    "ranks = [{'sentence': sentences[i], 'score': score.item()} for i, score in enumerate(cosine_scores)]\n",
    "\n",
    "# Select sentences with a score > 0.5 and sort by score\n",
    "ranks = [rank for rank in ranks if rank['score'] > 0.1]\n",
    "ranks = sorted(ranks, key=lambda x: x['score'], reverse=True)\n",
    "\n",
    "# Output the ranked sentences\n",
    "for rank in ranks:\n",
    "    print(f\"Sentence: {rank['sentence']}, Score: {rank['score']}\")"
   ]
  },
  {
   "cell_type": "code",
   "execution_count": null,
   "metadata": {},
   "outputs": [],
   "source": [
    "from transformers import pipeline\n",
    "\n",
    "# Load a pre-trained QA model and tokenizer\n",
    "qa_pipeline = pipeline('question-answering', model=\"distilbert-base-uncased-distilled-squad\", device=0)\n",
    "\n",
    "# Define the paragraph and the question\n",
    "n_index = 8\n",
    "title_1 = df_base['title'][n_index]\n",
    "paragraph = df_base['abstract'][n_index]\n",
    "question = \"What is the objective of this paper/work/study?\"\n",
    "\n",
    "# Use the QA pipeline to find the answer\n",
    "result = qa_pipeline(question=question, context=paragraph)\n",
    "\n",
    "# Print the extracted objective\n",
    "print('Title:', title_1)\n",
    "print(\"Objective:\", result['answer'])\n",
    "print(paragraph)"
   ]
  },
  {
   "cell_type": "code",
   "execution_count": null,
   "metadata": {},
   "outputs": [],
   "source": []
  },
  {
   "cell_type": "code",
   "execution_count": null,
   "metadata": {},
   "outputs": [],
   "source": [
    "\n",
    "\n",
    "# Analyze a paragraph\n",
    "#paragraph = \"The study aims to explore the impact of new regulations on small businesses.\"\n",
    "doc = nlp(paragraph)\n",
    "\n",
    "# Extract entities and potentially relevant verbs\n",
    "entities = [(ent.text, ent.label_) for ent in doc.ents]\n",
    "actions = [token.lemma_ for token in doc if token.pos_ == \"VERB\"]\n",
    "\n",
    "print(\"Entities:\", entities)\n",
    "print(\"Actions:\", actions)\n",
    "\n",
    "# Based on entities and actions, infer the paragraph objective\n",
    "if \"study\" in actions or \"assess\" in actions:\n",
    "    print(\"Objective: Likely explaining a research goal or hypothesis.\")\n"
   ]
  },
  {
   "cell_type": "code",
   "execution_count": null,
   "metadata": {},
   "outputs": [],
   "source": [
    "from transformers import (\n",
    "    TokenClassificationPipeline,\n",
    "    AutoModelForTokenClassification,\n",
    "    AutoTokenizer,\n",
    ")\n",
    "from transformers.pipelines import AggregationStrategy\n",
    "import numpy as np\n",
    "\n",
    "# Define keyphrase extraction pipeline\n",
    "class KeyphraseExtractionPipeline(TokenClassificationPipeline):\n",
    "    def __init__(self, model, *args, **kwargs):\n",
    "        super().__init__(\n",
    "            model=AutoModelForTokenClassification.from_pretrained(model),\n",
    "            tokenizer=AutoTokenizer.from_pretrained(model),\n",
    "            *args,\n",
    "            **kwargs\n",
    "        )\n",
    "\n",
    "    def postprocess(self, all_outputs):\n",
    "        results = super().postprocess(\n",
    "            all_outputs=all_outputs,\n",
    "            aggregation_strategy=AggregationStrategy.SIMPLE,\n",
    "        )\n",
    "        return np.unique([result.get(\"word\").strip() for result in results])\n",
    "\n",
    "# Load pipeline\n",
    "model_name = \"ml6team/keyphrase-extraction-kbir-inspec\"\n",
    "extractor = KeyphraseExtractionPipeline(model=model_name)\n",
    "\n",
    "text = df_base['abstract'][1]\n",
    "keyphrases = extractor(text)\n",
    "\n",
    "print(text)\n",
    "print(keyphrases)"
   ]
  },
  {
   "cell_type": "code",
   "execution_count": null,
   "metadata": {},
   "outputs": [],
   "source": [
    "from gliner import GLiNER\n",
    "\n",
    "def merge_entities(entities):\n",
    "    if not entities:\n",
    "        return []\n",
    "    merged = []\n",
    "    current = entities[0]\n",
    "    for next_entity in entities[1:]:\n",
    "        if next_entity['label'] == current['label'] and (next_entity['start'] == current['end'] + 1 or next_entity['start'] == current['end']):\n",
    "            current['text'] = text[current['start']: next_entity['end']].strip()\n",
    "            current['end'] = next_entity['end']\n",
    "        else:\n",
    "            merged.append(current)\n",
    "            current = next_entity\n",
    "    # Append the last entity\n",
    "    merged.append(current)\n",
    "    return merged\n",
    "\n",
    "\n",
    "model = GLiNER.from_pretrained(\"numind/NuNerZero\")\n",
    "\n",
    "# NuZero requires labels to be lower-cased!\n",
    "labels = [\"price\", \"chemical\", \"industry\"]\n",
    "labels = [l.lower() for l in labels]\n",
    "\n",
    "text = \"This paper investigates the techno-economic implications on air travel when fossil-based kerosene is phased out of the market, specifically focusing on the comparison between liquid hydrogen, liquid methane and renewable kerosene for ten exemplary flight routes to estimate the cost of air travel per passenger and 100 km distance travelled [Formula presented] for every fuel type. By considering the entire supply chain, including hydrogen production from renewable sources, synthesis, oversea transport, domestic distribution, and utilization, this study addresses the overarching question of whether it is more economical to change the fuel source or the fuel itself to reduce fossil kerosene usage in the aviation industry. It is demonstrated that aircraft acquisition costs play a minor role compared to fuel supply costs and specific fuel demand. The study shows that for electricity-based fuels, liquid hydrogen is the most economic option, even with a potential energy penalty, followed by liquid methane and renewable kerosene. The results for an aircraft with a capacity 180 passengers are 3.08, 4.57 and 5.11 [Formula presented] for liquid hydrogen, liquid methane and renewable kerosene, respectively. Challenges regarding storage and isolation requirements for cryogenic fuels in aviation are discussed, with assumptions made that these obstacles can be overcome to realize economic benefits. Additionally, the study suggests potential shifts in aircraft size selection by airlines to mitigate rising fuel prices in the future. The study advocates for the aviation industry's openness to new fuels like liquid hydrogen and liquid methane to alleviate the cost increase associated with phasing out fossil kerosene.\"\n",
    "    \n",
    "entities = model.predict_entities(text, labels)\n",
    "\n",
    "entities = merge_entities(entities)\n",
    "\n",
    "for entity in entities:\n",
    "    print(entity[\"text\"], \"=>\", entity[\"label\"])\n"
   ]
  },
  {
   "cell_type": "code",
   "execution_count": null,
   "metadata": {},
   "outputs": [],
   "source": [
    "from gliner import GLiNER\n",
    "\n",
    "model = GLiNER.from_pretrained(\"EmergentMethods/gliner_medium_news-v2.1\")\n",
    "labels = [\"person\", \"location\", \"date\", \"event\", \"facility\", \"vehicle\", \"price\", \"organization\", 'industry', 'chemical', 'country', 'storage', 'distribution']\n",
    "\n",
    "txt = 'Hydrogen liquefaction processes have effective function in the hydrogen supply chain. However low efficiency and high liquefaction costs are still the most important concerns about the liquefaction plants. In this study a new configuration for a hydrogen liquefier process is proposed and energy-exergy analyzed. The production rate of the liquid hydrogen (LH2) is 90 tons per day that can supply the required LH2 of at least 90 k-180 k hydrogen vehicles in an urban area that results in the reduction of pollutions caused by carbon dioxide emission. The process is simulated in Aspen HYSYS simulator. In addition, it is optimized thorough a trial and error approach that is a functional and simple method of complicated systems analysis. The process includes a mixed refrigerant (MR) refrigeration cycle that precools feed gas hydrogen from 25°C temperature to −199.9°C temperature. A new MR is used in a cascade Joule-Brayton cycle that deep-cools the low-temperature gaseous hydrogen from −199.9°C temperature to −252.2°C temperature in the cryogenic section of the plant. The novel process involves also an absorption refrigeration system (ARS) that cools some hydrogen streams in the precooling and cryogenic sections of the process. The consumed energy per kilogram of produced LH2 is achieved as 6.47kWh. This quantity is 2.89kWh in the ideal conditions. The exergy efficiency of the plant is evaluated to be 45.5% that is significantly more than the exergy efficiency of the in operating hydrogen liquefiers in the world. The energy analysis reveals that the coefficient of performance (COP) of the overall system is 0.2034. The achieved COP is a higher amount in compare to the other similar processes. A sensitivity analysis is done to show the effect of the various operation conditions of the process on the features of the plant. Accordingly, the optimum mass flow of the ARS is determined as 207kg/s for the proposed configuration. As well as, the effect of the change in the temperature approach of the heat exchangers and the changes in the adiabatic efficiency of the compressors and expanders on the SEC, COP, and the exergy efficiency of the overall plant is discussed. Furthermore, financial analysis of the plant estimates the capital expenditures (CAPEX), energy expenditures (EEX), and operational and maintenance expenditures (OMEX) as 25413 €2000, 7370 €2000, and 2033 €2000 respectively. These can be specially improved be improving of the exergy efficiency of the plant. The results implicates that the proposed configuration has better performance indicators than the in-service liquefiers. Therefore, LHL plant manufacturer can be considered it in the design and development of new plants. As well as, researchers may utilize its operating conditions to improve the proposed processes. '\n",
    "entities = model.predict_entities(txt, labels)\n",
    "\n",
    "for entity in entities:\n",
    "    print(entity[\"text\"], \"=>\", entity[\"label\"])\n"
   ]
  },
  {
   "cell_type": "code",
   "execution_count": null,
   "metadata": {},
   "outputs": [],
   "source": [
    "from transformers import AutoModelForQuestionAnswering, AutoTokenizer, pipeline\n",
    "\n",
    "model_name = \"google-bert/bert-large-uncased-whole-word-masking-finetuned-squad\"\n",
    "\n",
    "# a) Get predictions\n",
    "nlp = pipeline('question-answering', model=model_name, tokenizer=model_name)\n",
    "QA_input = {\n",
    "    'question': 'what process this article has?',\n",
    "    'context': txt\n",
    "}\n",
    "res = nlp(QA_input)\n",
    "\n",
    "# b) Load model & tokenizer\n",
    "model = AutoModelForQuestionAnswering.from_pretrained(model_name)\n",
    "tokenizer = AutoTokenizer.from_pretrained(model_name)\n",
    "\n",
    "# c) Tokenize input\n",
    "inputs = tokenizer(QA_input[\"question\"], QA_input[\"context\"], return_tensors=\"pt\")\n",
    "res = nlp(QA_input)\n",
    "\n",
    "# d) Show results\n",
    "print(res)\n"
   ]
  },
  {
   "cell_type": "code",
   "execution_count": null,
   "metadata": {},
   "outputs": [],
   "source": [
    "from transformers import AutoModelForQuestionAnswering, AutoTokenizer, pipeline\n",
    "\n",
    "model_name = \"bert-large-uncased-whole-word-masking-finetuned-squad\"\n",
    "\n",
    "# Load the model and tokenizer\n",
    "model = AutoModelForQuestionAnswering.from_pretrained(model_name)\n",
    "tokenizer = AutoTokenizer.from_pretrained(model_name)\n",
    "\n",
    "nlp = pipeline('question-answering', model=model, tokenizer=tokenizer)\n",
    "\n",
    "QA_input = {\n",
    "    'question': '?',\n",
    "    'context': txt\n",
    "}\n",
    "\n",
    "res = nlp(QA_input)\n",
    "print(res)"
   ]
  },
  {
   "cell_type": "code",
   "execution_count": null,
   "metadata": {},
   "outputs": [],
   "source": [
    "from transformers import pipeline\n",
    "\n",
    "summarizer = pipeline(\"summarization\", model=\"Falconsai/text_summarization\")\n",
    "print(summarizer(txt, max_length=200, min_length=30, do_sample=False))"
   ]
  },
  {
   "cell_type": "code",
   "execution_count": null,
   "metadata": {},
   "outputs": [],
   "source": [
    "from transformers import PegasusTokenizer, PegasusForConditionalGeneration, TFPegasusForConditionalGeneration\n",
    "\n",
    "# Let's load the model and the tokenizer \n",
    "model_name = \"human-centered-summarization/financial-summarization-pegasus\"\n",
    "tokenizer = PegasusTokenizer.from_pretrained(model_name)\n",
    "model = PegasusForConditionalGeneration.from_pretrained(model_name) # If you want to use the Tensorflow model \n",
    "                                                                    # just replace with TFPegasusForConditionalGeneration\n",
    "\n",
    "\n",
    "# Some text to summarize here\n",
    "text_to_summarize = \"Hydrogen liquefaction processes have effective function in the hydrogen supply chain. However low efficiency and high liquefaction costs are still the most important concerns about the liquefaction plants. In this study a new configuration for a hydrogen liquefier process is proposed and energy-exergy analyzed. The production rate of the liquid hydrogen (LH2) is 90 tons per day that can supply the required LH2 of at least 90 k-180 k hydrogen vehicles in an urban area that results in the reduction of pollutions caused by carbon dioxide emission. The process is simulated in Aspen HYSYS simulator. In addition, it is optimized thorough a trial and error approach that is a functional and simple method of complicated systems analysis. The process includes a mixed refrigerant (MR) refrigeration cycle that precools feed gas hydrogen from 25°C temperature to −199.9°C temperature. A new MR is used in a cascade Joule-Brayton cycle that deep-cools the low-temperature gaseous hydrogen from −199.9°C temperature to −252.2°C temperature in the cryogenic section of the plant. The novel process involves also an absorption refrigeration system (ARS) that cools some hydrogen streams in the precooling and cryogenic sections of the process. The consumed energy per kilogram of produced LH2 is achieved as 6.47kWh. This quantity is 2.89kWh in the ideal conditions. The exergy efficiency of the plant is evaluated to be 45.5% that is significantly more than the exergy efficiency of the in operating hydrogen liquefiers in the world. The energy analysis reveals that the coefficient of performance (COP) of the overall system is 0.2034. The achieved COP is a higher amount in compare to the other similar processes. A sensitivity analysis is done to show the effect of the various operation conditions of the process on the features of the plant. Accordingly, the optimum mass flow of the ARS is determined as 207kg/s for the proposed configuration. As well as, the effect of the change in the temperature approach of the heat exchangers and the changes in the adiabatic efficiency of the compressors and expanders on the SEC, COP, and the exergy efficiency of the overall plant is discussed. Furthermore, financial analysis of the plant estimates the capital expenditures (CAPEX), energy expenditures (EEX), and operational and maintenance expenditures (OMEX) as 25413 €2000, 7370 €2000, and 2033 €2000 respectively. These can be specially improved be improving of the exergy efficiency of the plant. The results implicates that the proposed configuration has better performance indicators than the in-service liquefiers. Therefore, LHL plant manufacturer can be considered it in the design and development of new plants. As well as, researchers may utilize its operating conditions to improve the proposed processes. \"\n",
    "# Tokenize our text\n",
    "# If you want to run the code in Tensorflow, please remember to return the particular tensors as simply as using return_tensors = 'tf'\n",
    "input_ids = tokenizer(text_to_summarize, return_tensors=\"pt\").input_ids\n",
    "print(len(input_ids[0]))\n",
    "# Generate the output (Here, we use beam search but you can also use any other strategy you like)\n",
    "output = model.generate(\n",
    "    input_ids, \n",
    "    max_length=30, \n",
    "    num_beams=5, \n",
    "    early_stopping=True\n",
    ")\n",
    "\n",
    "# Finally, we can print the generated summary\n",
    "print(tokenizer.decode(output[0], skip_special_tokens=True))\n"
   ]
  },
  {
   "cell_type": "code",
   "execution_count": null,
   "metadata": {},
   "outputs": [],
   "source": [
    "###Parallel processing\n",
    "# Use parallel processing to speed up the computation\n",
    "def process_row(row):\n",
    "    return objective_finder_qa(row['abstract'], question)\n",
    "\n",
    "with ThreadPoolExecutor(max_workers=2) as executor:\n",
    "    df_base['objective'] = list(executor.map(process_row, df_base.to_dict('records')))"
   ]
  },
  {
   "cell_type": "code",
   "execution_count": 25,
   "metadata": {},
   "outputs": [
    {
     "name": "stderr",
     "output_type": "stream",
     "text": [
      "Read 0M words\n",
      "Number of words:  2242\n",
      "Number of labels: 0\n",
      "Progress: 100.0% words/sec/thread:   21328 lr:  0.000000 avg.loss:  2.657776 ETA:   0h 0m 0s lr:  0.003114 avg.loss:  2.655280 ETA:   0h 0m 0s\n"
     ]
    }
   ],
   "source": [
    "import fasttext\n",
    "import tempfile\n",
    "\n",
    "# Convert list of abstracts to a single string, each abstract being a new line\n",
    "abstracts_str = \"\\n\".join(df_base['abstract'].tolist())\n",
    "\n",
    "# Create a temporary file to store the abstracts\n",
    "with tempfile.NamedTemporaryFile(mode='w+', delete=False) as tmp_file:\n",
    "    tmp_file.write(abstracts_str)\n",
    "    tmp_file_path = tmp_file.name\n",
    "\n",
    "# Train the FastText model\n",
    "model = fasttext.train_unsupervised(tmp_file_path, model='skipgram', minn=2, maxn=5, dim=300)  # or 'cbow'\n"
   ]
  },
  {
   "cell_type": "markdown",
   "metadata": {},
   "source": [
    "### Check positive or negative feeling"
   ]
  },
  {
   "cell_type": "markdown",
   "metadata": {},
   "source": [
    "https://github.com/Dan-La/scientific-challenges-and-directions"
   ]
  },
  {
   "cell_type": "code",
   "execution_count": null,
   "metadata": {},
   "outputs": [],
   "source": [
    "df_contrast = df_base[['title', 'abstract']].copy()\n",
    "df_contrast['sentences'] = df_contrast['abstract'].apply(extract_sentences)"
   ]
  },
  {
   "cell_type": "code",
   "execution_count": 86,
   "metadata": {},
   "outputs": [],
   "source": [
    "import torch\n",
    "from transformers import DistilBertTokenizer, DistilBertForSequenceClassification\n",
    "\n",
    "tokenizer = DistilBertTokenizer.from_pretrained(\"distilbert-base-uncased-finetuned-sst-2-english\")\n",
    "model = DistilBertForSequenceClassification.from_pretrained(\"distilbert-base-uncased-finetuned-sst-2-english\")\n",
    "\n",
    "sentences = df_contrast['sentences'][2]\n",
    "classification = []\n",
    "for sentence in sentences:\n",
    "    inputs = tokenizer(sentence, return_tensors=\"pt\")\n",
    "    with torch.no_grad():\n",
    "        logits = model(**inputs).logits\n",
    "\n",
    "    predicted_class_id = logits.argmax().item()\n",
    "    grade = model.config.id2label[predicted_class_id]\n",
    "    classification.append(grade)\n",
    "\n",
    "df_results = pd.DataFrame({'sentence': sentences, 'classification': classification})"
   ]
  },
  {
   "cell_type": "code",
   "execution_count": 119,
   "metadata": {},
   "outputs": [
    {
     "name": "stdout",
     "output_type": "stream",
     "text": [
      "[('challenge', '-'), ('-', '-'), ('challenge', '-'), ('-', '-'), ('-', '-'), ('-', '-'), ('challenge', 'direction'), ('challenge', '-')]\n"
     ]
    }
   ],
   "source": [
    "from transformers import AutoTokenizer, AutoModelForSequenceClassification\n",
    "\n",
    "# Check if CUDA is available and set the device\n",
    "device = torch.device('cuda' if torch.cuda.is_available() else 'cpu')\n",
    "\n",
    "# Function to clsasify the sentences as challenges or directions\n",
    "tokenizer_challenges    = AutoTokenizer.from_pretrained(\"DanL/scientific-challenges-and-directions\")\n",
    "model_challenges        = AutoModelForSequenceClassification.from_pretrained(\"DanL/scientific-challenges-and-directions\").to(device)\n",
    "\n",
    "def classify_challenge(sentences, model=model_challenges, tokenizer=tokenizer_challenges, threshold=0.8):\n",
    "    results = []\n",
    "    if sentences:  # Check if sentences list is not empty\n",
    "        encoding    = tokenizer(sentences, return_tensors=\"pt\", padding=True).to(device)\n",
    "        with torch.no_grad():\n",
    "            outputs     = model(**encoding)\n",
    "        \n",
    "        logits      = outputs['logits'].sigmoid().cpu().detach().numpy()\n",
    "\n",
    "        # Apply thresholding to the logits\n",
    "        predicted_challenge = np.where(logits[:, 0] > threshold, 'challenge', '-')\n",
    "        predicted_direction = np.where(logits[:, 1] > threshold, 'direction', '-')\n",
    "\n",
    "        # Zip the results and append to the list\n",
    "        results = list(zip(predicted_challenge, predicted_direction))\n",
    "    \n",
    "    return results\n",
    "\n",
    "# Function to classify the sentences depending on their sentiment\n",
    "modelName_sentiment = 'distilbert-base-uncased-finetuned-sst-2-english'\n",
    "tokenizer_sentiment = DistilBertTokenizer.from_pretrained(modelName_sentiment)\n",
    "model_sentiment     = DistilBertForSequenceClassification.from_pretrained(modelName_sentiment).to(device)\n",
    "\n",
    "def classify_sentiment(sentences, model=model_sentiment, tokenizer=tokenizer_sentiment):\n",
    "    predicted_sentiment = []\n",
    "    if sentences:  # Check if sentences list is not empty\n",
    "        encoding    = tokenizer(sentences, return_tensors=\"pt\", padding=True, truncation=True).to(device)\n",
    "        with torch.no_grad():\n",
    "            outputs     = model(**encoding)\n",
    "        \n",
    "        logits      = outputs['logits'].softmax(dim=1).cpu().detach().numpy()\n",
    "\n",
    "        # Get the predicted sentiment\n",
    "        predicted_sentiment = np.argmax(logits, axis=1)\n",
    "    \n",
    "    return predicted_sentiment\n",
    "\n",
    "sentences = df_contrast['sentences'][0]\n",
    "results = classify_challenge(sentences)\n",
    "print(results)\n",
    "\n"
   ]
  },
  {
   "cell_type": "code",
   "execution_count": 101,
   "metadata": {},
   "outputs": [],
   "source": [
    "# Apply the function to the dataframe\n",
    "df_contrast['challennge'] = df_contrast['sentences'].apply(classify_challenge)\n"
   ]
  },
  {
   "cell_type": "code",
   "execution_count": 143,
   "metadata": {},
   "outputs": [],
   "source": [
    "\n",
    "# Select the sentences that are classified as challenges\n",
    "df_check_sentences = df_contrast[['title', 'sentences', 'challennge']]\n",
    "df_exploded = df_check_sentences.explode(['challennge', 'sentences'])\n",
    "\n",
    "df_exploded[['challennge','direction']] = pd.DataFrame(df_exploded['challennge'].tolist(), index=df_exploded.index)\n",
    "\n"
   ]
  },
  {
   "cell_type": "code",
   "execution_count": 172,
   "metadata": {},
   "outputs": [
    {
     "name": "stderr",
     "output_type": "stream",
     "text": [
      "/home/killa1994/.conda/envs/envThesis/lib/python3.12/site-packages/huggingface_hub/file_download.py:1150: FutureWarning: `resume_download` is deprecated and will be removed in version 1.0.0. Downloads always resume when possible. If you want to force a new download, use `force_download=True`.\n",
      "  warnings.warn(\n"
     ]
    },
    {
     "data": {
      "image/png": "[encoded data removed]",
      "text/plain": [
       "<Figure size 1000x800 with 1 Axes>"
      ]
     },
     "metadata": {},
     "output_type": "display_data"
    }
   ],
   "source": [
    "# Clustering\n",
    "#import umap\n",
    "import umap.umap_ as umap\n",
    "import hdbscan\n",
    "from sklearn.metrics import silhouette_score, davies_bouldin_score, calinski_harabasz_score\n",
    "from sklearn.metrics import silhouette_samples\n",
    "import matplotlib.cm as cm\n",
    "\n",
    "model = SentenceTransformer(\"all-MiniLM-L6-v2\", similarity_fn_name=SimilarityFunction.COSINE, device=0)\n",
    "\n",
    "\n",
    "df_filter = df_exploded[ df_exploded['challennge']== 'challenge'].copy()\n",
    "sentences = df_filter['sentences'].to_list()\n",
    "embeddings = model.encode(sentences)\n",
    "\n",
    "#reduce the dimensionality of the embeddings\n",
    "umap_embeddings = umap.UMAP(n_neighbors=25, n_components=10, metric='cosine').fit_transform(embeddings)\n",
    "\n",
    "# perform clustering on the reduced embeddings\n",
    "cluster = hdbscan.HDBSCAN(min_cluster_size=10, metric='euclidean', cluster_selection_method='eom').fit(umap_embeddings)\n",
    "\n",
    "# extract the cluster labels\n",
    "df_filter['cluster'] = cluster.labels_\n",
    "\n",
    "\n",
    "\n",
    "cluster_labels = cluster.labels_\n",
    "\n",
    "# Calculate silhouette scores\n",
    "silhouette_avg = silhouette_score(umap_embeddings, cluster_labels)\n",
    "sample_silhouette_values = silhouette_samples(umap_embeddings, cluster_labels)\n",
    "\n",
    "# Plot silhouette scores\n",
    "def plot_silhouette(umap_embeddings, cluster_labels, sample_silhouette_values, silhouette_avg):\n",
    "    fig, ax1 = plt.subplots(1, 1)\n",
    "    fig.set_size_inches(10, 8)\n",
    "    \n",
    "    # The silhouette coefficient can range from -1, 1\n",
    "    ax1.set_xlim([-0.1, 1])\n",
    "    # The (n_clusters+1)*10 is for inserting blank space between silhouette plots of individual clusters\n",
    "    ax1.set_ylim([0, len(umap_embeddings) + (len(set(cluster_labels)) + 1) * 10])\n",
    "\n",
    "    y_lower = 10\n",
    "    for i in range(len(set(cluster_labels))):\n",
    "        ith_cluster_silhouette_values = sample_silhouette_values[cluster_labels == i]\n",
    "        ith_cluster_silhouette_values.sort()\n",
    "\n",
    "        size_cluster_i = ith_cluster_silhouette_values.shape[0]\n",
    "        y_upper = y_lower + size_cluster_i\n",
    "\n",
    "        color = cm.nipy_spectral(float(i) / len(set(cluster_labels)))\n",
    "        ax1.fill_betweenx(np.arange(y_lower, y_upper), 0, ith_cluster_silhouette_values,\n",
    "                          facecolor=color, edgecolor=color, alpha=0.7)\n",
    "\n",
    "        ax1.text(-0.05, y_lower + 0.5 * size_cluster_i, str(i))\n",
    "\n",
    "        y_lower = y_upper + 10\n",
    "\n",
    "    ax1.set_title(\"Silhouette plot for the various clusters\")\n",
    "    ax1.set_xlabel(\"Silhouette coefficient values\")\n",
    "    ax1.set_ylabel(\"Cluster label\")\n",
    "\n",
    "    ax1.axvline(x=silhouette_avg, color=\"red\", linestyle=\"--\")\n",
    "\n",
    "    ax1.set_yticks([])  # Clear the yaxis labels / ticks\n",
    "    ax1.set_xticks(np.arange(-0.1, 1.1, 0.2))\n",
    "\n",
    "    plt.show()\n",
    "\n",
    "# Plot the silhouette scores\n",
    "plot_silhouette(umap_embeddings, cluster_labels, sample_silhouette_values, silhouette_avg)"
   ]
  },
  {
   "cell_type": "code",
   "execution_count": 70,
   "metadata": {},
   "outputs": [
    {
     "name": "stdout",
     "output_type": "stream",
     "text": [
      "['The aim of this paper is to evaluate the costs and GHG emissions of advanced biofuels production through hydrothermal liquefaction (HTL) of sewage sludge in The Netherlands targeting the marine fuels market.', 'The process evaluated consists of a distributed configuration of regional HTL plants co-located with wastewater treatment plants, with centralized hydrotreating co-located with an existing refinery at the Port of Rotterdam.', 'The process is simulated in ASPEN + based on published experimental data and the mass and energy balances are used as input for techno-economic and environmental evaluation.', 'Lifecycle GHG emissions of the HTL and hydrotreating processes are estimated using consequential modelling principles and background data from the Ecoinvent database and compared with the business-as-usual scenario of sludge mono-incineration and fossil marine fuels production.', 'The results indicate that the HTL + hydrotreating configuration has potential to deliver on-spec marine biofuels at a minimum fuel selling price between 410 and 1300 EUR/t, being at least 3 times more beneficial compared to the business-as-usual scenario from a GHG emissions perspective.', 'Future work is recommended to optimize the size and location of the HTL plants in order to decrease capital costs and to address uncertainties regarding the sludge gate fee and the costs associated with the aqueous and solid by-products treatment.', 'The results indicate the potential of such configuration in locations with relatively high population density and good transport infrastructure.', 'This can be the case of port areas around the North Sea with access to offshore renewable electricity for hydrogen production, where drop-in marine biofuels are expected to play a role with the increasing share of renewables in the marine fuels mix.']\n"
     ]
    }
   ],
   "source": [
    "\n",
    "\n",
    "### inference function\n",
    "def inference(sentences, model=model, threshold=0.5):\n",
    "    results = []\n",
    "    if len(sentences): # sentences != NULL\n",
    "        encoding = tokenizer(sentences, return_tensors=\"pt\", padding=True)\n",
    "        outputs = model(**encoding)\n",
    "        logits = outputs['logits'].sigmoid().cpu().detach().numpy()\n",
    "        for logit, text in zip(logits, sentences):\n",
    "            results.append({'sequence':text, 'output': {'challenge': logit[0], 'direction': logit[1]}})\n",
    "    return results\n",
    "     \n",
    "\n",
    "### to play with the model insert your own sentences\n",
    "sentences = [\"we speculate that studying IL-6 will be beneficial.\",\n",
    "             \"severe atypical cases of pneumonia emerged and quickly spread worldwide.\",\n",
    "             \"in future studies, both PRRs should be tested as the cause for multiple deaths.\",\n",
    "             \"IbMADS1-transformed potatoes exhibited tuber morphogenesis in the fibrous roots.\",]\n",
    "\n",
    "results = inference(sentences, model=model)\n",
    "print(*results, sep='\\n')\n",
    "     \n"
   ]
  },
  {
   "cell_type": "code",
   "execution_count": null,
   "metadata": {},
   "outputs": [],
   "source": []
  },
  {
   "cell_type": "markdown",
   "metadata": {},
   "source": [
    "### Check countries"
   ]
  },
  {
   "cell_type": "code",
   "execution_count": 192,
   "metadata": {},
   "outputs": [
    {
     "name": "stderr",
     "output_type": "stream",
     "text": [
      "Some weights of the model checkpoint at dbmdz/bert-large-cased-finetuned-conll03-english were not used when initializing BertForTokenClassification: ['bert.pooler.dense.bias', 'bert.pooler.dense.weight']\n",
      "- This IS expected if you are initializing BertForTokenClassification from the checkpoint of a model trained on another task or with another architecture (e.g. initializing a BertForSequenceClassification model from a BertForPreTraining model).\n",
      "- This IS NOT expected if you are initializing BertForTokenClassification from the checkpoint of a model that you expect to be exactly identical (initializing a BertForSequenceClassification model from a BertForSequenceClassification model).\n"
     ]
    },
    {
     "name": "stdout",
     "output_type": "stream",
     "text": [
      "[{'entity': 'I-PER', 'score': 0.4695394, 'index': 1, 'word': 'Hawk', 'start': 0, 'end': 4}, {'entity': 'I-MISC', 'score': 0.9075718, 'index': 2, 'word': '##ing', 'start': 4, 'end': 7}, {'entity': 'I-MISC', 'score': 0.95800185, 'index': 3, 'word': 'Ra', 'start': 8, 'end': 10}, {'entity': 'I-MISC', 'score': 0.43808076, 'index': 4, 'word': '##diation', 'start': 10, 'end': 17}, {'entity': 'I-PER', 'score': 0.99925953, 'index': 11, 'word': 'Stephen', 'start': 54, 'end': 61}, {'entity': 'I-PER', 'score': 0.9979808, 'index': 12, 'word': 'Hawk', 'start': 62, 'end': 66}, {'entity': 'I-PER', 'score': 0.9956766, 'index': 13, 'word': '##ing', 'start': 66, 'end': 69}]\n"
     ]
    }
   ],
   "source": [
    "from transformers import pipeline\n",
    "\n",
    "# Load a pre-trained model fine-tuned for NER\n",
    "model_name = 'dbmdz/bert-large-cased-finetuned-conll03-english'  # A model fine-tuned on CoNLL-03 for NER\n",
    "nlp_ner = pipeline(\"ner\", model=model_name, tokenizer=model_name)\n",
    "\n",
    "# Perform NER\n",
    "text = \"Hawking Radiation is a theoretical prediction made by Stephen Hawking.\"\n",
    "ner_results = nlp_ner(text)\n",
    "print(ner_results)"
   ]
  },
  {
   "cell_type": "code",
   "execution_count": 201,
   "metadata": {},
   "outputs": [
    {
     "name": "stderr",
     "output_type": "stream",
     "text": [
      "Some weights of the model checkpoint at dslim/bert-base-NER were not used when initializing BertForTokenClassification: ['bert.pooler.dense.bias', 'bert.pooler.dense.weight']\n",
      "- This IS expected if you are initializing BertForTokenClassification from the checkpoint of a model trained on another task or with another architecture (e.g. initializing a BertForSequenceClassification model from a BertForPreTraining model).\n",
      "- This IS NOT expected if you are initializing BertForTokenClassification from the checkpoint of a model that you expect to be exactly identical (initializing a BertForSequenceClassification model from a BertForSequenceClassification model).\n"
     ]
    },
    {
     "name": "stdout",
     "output_type": "stream",
     "text": [
      "           word  entity\n",
      "0             R   B-ORG\n",
      "1           ##E   I-ORG\n",
      "2       ##power   I-ORG\n",
      "3           ##E   I-ORG\n",
      "4           ##U   I-ORG\n",
      "5      European  B-MISC\n",
      "6        System  I-MISC\n",
      "7         Opera   I-ORG\n",
      "8        ##tors   I-ORG\n",
      "9       Belgium   B-LOC\n",
      "10  Netherlands   B-LOC\n",
      "11      Germany   B-LOC\n",
      "12           In  I-MISC\n",
      "13         ##te  I-MISC\n",
      "14        ##ger  I-MISC\n",
      "15         Line  I-MISC\n",
      "16         ##ar  I-MISC\n",
      "17  Programming  I-MISC\n",
      "18      Belgian  B-MISC\n"
     ]
    }
   ],
   "source": [
    "from transformers import AutoTokenizer, AutoModelForTokenClassification\n",
    "from transformers import pipeline\n",
    "\n",
    "tokenizer = AutoTokenizer.from_pretrained(\"dslim/bert-base-NER\")\n",
    "model = AutoModelForTokenClassification.from_pretrained(\"dslim/bert-base-NER\")\n",
    "\n",
    "nlp = pipeline(\"ner\", model=model, tokenizer=tokenizer)\n",
    "example = \"The REpowerEU plan prioritizes combining electrification with low-carbon hydrogen for a green energy shift. However, uncertainties surrounding the future hydrogen market and its supply costs impede the establishment of its value chain. Without definite plans for hydrogen production and infrastructure, investing in low-carbon hydrogen industrial processes is risky. Simultaneously, the absence of solid market interest poses challenges in deploying a hydrogen backbone. In recent years, European gas Transmission System Operators (TSOs) in Belgium, Netherlands, and Germany, have introduced various roadmaps for their prospective national hydrogen network. Despite the infrastructure proposals, detailed quantitative scenario analysis for the future hydrogen supply chain is still missing. This paper presents a hydrogen infrastructure model that employs Mixed Integer Linear Programming (MILP) for investment and operational cost optimization at detailed spatiotemporal resolution. A regionalization method is proposed to allocate the potential hydrogen consumption in different industrial sectors across various clusters within a country, represented as the prospective hydrogen demand nodes. The model assesses extreme supply scenarios to examine the robustness of the resulting network infrastructure and compare the system-levelized cost of hydrogen. A real-life case study focusing on the potential Belgian hydrogen supply chain showcases the model's capabilities and outputs. \"\n",
    "\n",
    "ner_results = nlp(example)\n",
    "# Create table with word, entity\n",
    "entities = [(entity['word'], entity['entity']) for entity in ner_results]\n",
    "df_result = pd.DataFrame(entities, columns=['word', 'entity'])\n",
    "print(df_result)"
   ]
  },
  {
   "cell_type": "code",
   "execution_count": 230,
   "metadata": {},
   "outputs": [
    {
     "data": {
      "application/vnd.jupyter.widget-view+json": {
       "model_id": "e671b1b948bd4c0e8c40434c76834faa",
       "version_major": 2,
       "version_minor": 0
      },
      "text/plain": [
       "Fetching 9 files:   0%|          | 0/9 [00:00<?, ?it/s]"
      ]
     },
     "metadata": {},
     "output_type": "display_data"
    },
    {
     "name": "stderr",
     "output_type": "stream",
     "text": [
      "/home/killa1994/.conda/envs/envThesis/lib/python3.12/site-packages/transformers/convert_slow_tokenizer.py:560: UserWarning: The sentencepiece tokenizer that you are converting to a fast tokenizer uses the byte fallback option which is not implemented in the fast tokenizers. In practice this means that the fast version of the tokenizer can produce unknown tokens whereas the sentencepiece version would have converted these unknown tokens into a sequence of byte tokens matching the original piece of text.\n",
      "  warnings.warn(\n",
      "/home/killa1994/.conda/envs/envThesis/lib/python3.12/site-packages/huggingface_hub/file_download.py:1150: FutureWarning: `resume_download` is deprecated and will be removed in version 1.0.0. Downloads always resume when possible. If you want to force a new download, use `force_download=True`.\n",
      "  warnings.warn(\n",
      "/home/killa1994/.local/lib/python3.12/site-packages/gliner/model.py:489: FutureWarning: You are using `torch.load` with `weights_only=False` (the current default value), which uses the default pickle module implicitly. It is possible to construct malicious pickle data which will execute arbitrary code during unpickling (See https://github.com/pytorch/pytorch/blob/main/SECURITY.md#untrusted-models for more details). In a future release, the default value for `weights_only` will be flipped to `True`. This limits the functions that could be executed during unpickling. Arbitrary objects will no longer be allowed to be loaded via this mode unless they are explicitly allowlisted by the user via `torch.serialization.add_safe_globals`. We recommend you start setting `weights_only=True` for any use case where you don't have full control of the loaded file. Please open an issue on GitHub for any issues related to this experimental feature.\n",
      "  state_dict = torch.load(model_file, map_location=torch.device(map_location))\n",
      "/home/killa1994/.local/lib/python3.12/site-packages/gliner/data_processing/processor.py:206: UserWarning: Sentence of length 355 has been truncated to 296\n",
      "Asking to truncate to max_length but no maximum length is provided and the model has no predefined maximum length. Default to no truncation.\n"
     ]
    },
    {
     "name": "stdout",
     "output_type": "stream",
     "text": [
      "           word    entity\n",
      "0       Germany   country\n",
      "1       Germany   country\n",
      "2        Norway   country\n",
      "3         Spain   country\n",
      "4       Algeria   country\n",
      "5       Morocco   country\n",
      "6         Egypt   country\n",
      "7          2050      date\n",
      "8   Monte Carlo  software\n",
      "9        Norway   country\n",
      "10        Spain   country\n",
      "11      Algeria   country\n",
      "12      Morocco   country\n",
      "13      Germany   country\n",
      "14       Norway   country\n"
     ]
    }
   ],
   "source": [
    "from gliner import GLiNER\n",
    "\n",
    "model = GLiNER.from_pretrained(\"EmergentMethods/gliner_medium_news-v2.1\", device=0)\n",
    "\n",
    "labels = ['person', \"location\", \"date\", \"event\", \"facility\", \"vehicle\", \"number\", \"organization\", 'country', 'software']\n",
    "\n",
    "entities = model.predict_entities(example, labels)\n",
    "\n",
    "entities = [(entity['text'], entity['label']) for entity in entities]\n",
    "df_result_2 = pd.DataFrame(entities, columns=['word', 'entity'])\n",
    "print(df_result_2)"
   ]
  },
  {
   "cell_type": "code",
   "execution_count": 236,
   "metadata": {},
   "outputs": [
    {
     "name": "stderr",
     "output_type": "stream",
     "text": [
      "/home/killa1994/.conda/envs/envThesis/lib/python3.12/site-packages/transformers/pipelines/token_classification.py:168: UserWarning: `grouped_entities` is deprecated and will be removed in version v5.0.0, defaulted to `aggregation_strategy=\"AggregationStrategy.SIMPLE\"` instead.\n",
      "  warnings.warn(\n"
     ]
    },
    {
     "name": "stdout",
     "output_type": "stream",
     "text": [
      "                                word entity\n",
      "0                            Germany    LOC\n",
      "1         Levelized Cost of Hydrogen   MISC\n",
      "2                            Germany    LOC\n",
      "3                             Norway    LOC\n",
      "4                              Spain    LOC\n",
      "5                            Algeria    LOC\n",
      "6                            Morocco    LOC\n",
      "7                              Egypt    LOC\n",
      "8                           European   MISC\n",
      "9                        Monte Carlo   MISC\n",
      "10  Weighted Average Cost of Capital   MISC\n",
      "11                            Norway    LOC\n",
      "12                             Spain    LOC\n",
      "13        Levelized Cost of Hydrogen   MISC\n",
      "14                           Algeria    LOC\n",
      "15                           Morocco    LOC\n",
      "16                           Germany    LOC\n",
      "17                            Norway    LOC\n",
      "18                             Egypt    LOC\n",
      "19        Levelized Cost of Hydrogen   MISC\n",
      "20  Weighted Average Cost of Capital   MISC\n"
     ]
    }
   ],
   "source": [
    "from transformers import AutoTokenizer, AutoModelForTokenClassification\n",
    "from transformers import pipeline\n",
    "\n",
    "tokenizer = AutoTokenizer.from_pretrained(\"Babelscape/wikineural-multilingual-ner\")\n",
    "model = AutoModelForTokenClassification.from_pretrained(\"Babelscape/wikineural-multilingual-ner\")\n",
    "\n",
    "nlp = pipeline(\"ner\", model=model, tokenizer=tokenizer, grouped_entities=True)\n",
    "\n",
    "example = \"The production of green hydrogen through electrolysis, utilizing renewable energies, is recognized as a pivotal element in the pursuit of decarbonization. In order to attain cost competitiveness for green hydrogen, reasonable generation costs are imperative. To identify cost-effective import partners for Germany, given its limited green hydrogen production capabilities, this study undertakes an exhaustive techno-economic analysis to determine the potential Levelized Cost of Hydrogen in Germany, Norway, Spain, Algeria, Morocco, and Egypt for the year 2050, which represents a critical milestone in European decarbonization efforts. Employing a stochastic approach with Monte Carlo simulations, the paper marks a significant contribution for projecting future cost ranges, acknowledging the multitude of uncertainties inherent in related cost parameters and emphasizing the importance of randomness in these assessments. Country-specific Weighted Average Cost of Capital are calculated in order to create a refined understanding of political and economic influences on cost formation, rather than using a uniform value across all investigated nations. Key findings reveal that among the evaluated nations, PV-based hydrogen emerges as the most cost-efficient alternative in all countries except Norway, with Spain presenting the lowest Levelized Cost of Hydrogen at 1.66 €/kg to 3.12 €/kg, followed by Algeria (1.72 €/kg to 3.23 €/kg) and Morocco (1.73 €/kg to 3.28 €/kg). Consequently, for economically favorable import options, Germany is advised to prioritize PV-based hydrogen imports from these countries. Additionally, hydrogen derived from onshore wind in Norway (2.24 €/kg to 3.73 €/kg) offers a feasible import alternative. To ensure supply chain diversity and reduce dependency on a single source, a mixed import strategy is advisable. Despite having the lowest electricity cost, Egypt shows the highest Levelized Cost of Hydrogen, primarily due to a significant Weighted Average Cost of Capital. \"\n",
    "\n",
    "ner_results = nlp(example)\n",
    "entities = [(entity['word'], entity['entity_group']) for entity in ner_results]\n",
    "df_result_2 = pd.DataFrame(entities, columns=['word', 'entity'])\n",
    "print(df_result_2)"
   ]
  },
  {
   "cell_type": "code",
   "execution_count": 237,
   "metadata": {},
   "outputs": [
    {
     "data": {
      "application/vnd.jupyter.widget-view+json": {
       "model_id": "157a51c88cf24651aacd40f70071ae5a",
       "version_major": 2,
       "version_minor": 0
      },
      "text/plain": [
       "pytorch_model.bin:   0%|          | 0.00/2.24G [00:00<?, ?B/s]"
      ]
     },
     "metadata": {},
     "output_type": "display_data"
    },
    {
     "data": {
      "application/vnd.jupyter.widget-view+json": {
       "model_id": "83da6c6e15704f9288a48c878c89cc1c",
       "version_major": 2,
       "version_minor": 0
      },
      "text/plain": [
       "tokenizer_config.json:   0%|          | 0.00/25.0 [00:00<?, ?B/s]"
      ]
     },
     "metadata": {},
     "output_type": "display_data"
    },
    {
     "data": {
      "application/vnd.jupyter.widget-view+json": {
       "model_id": "72779880b50b4536b116078d3e644149",
       "version_major": 2,
       "version_minor": 0
      },
      "text/plain": [
       "config.json:   0%|          | 0.00/616 [00:00<?, ?B/s]"
      ]
     },
     "metadata": {},
     "output_type": "display_data"
    },
    {
     "data": {
      "application/vnd.jupyter.widget-view+json": {
       "model_id": "a667bd33c6d146b1b063498582bfe285",
       "version_major": 2,
       "version_minor": 0
      },
      "text/plain": [
       "sentencepiece.bpe.model:   0%|          | 0.00/5.07M [00:00<?, ?B/s]"
      ]
     },
     "metadata": {},
     "output_type": "display_data"
    },
    {
     "data": {
      "application/vnd.jupyter.widget-view+json": {
       "model_id": "604747757b294f6ba995d334ca8e8a36",
       "version_major": 2,
       "version_minor": 0
      },
      "text/plain": [
       "tokenizer.json:   0%|          | 0.00/9.10M [00:00<?, ?B/s]"
      ]
     },
     "metadata": {},
     "output_type": "display_data"
    },
    {
     "name": "stdout",
     "output_type": "stream",
     "text": [
      "2024-08-08 21:30:08,894 SequenceTagger predicts: Dictionary with 20 tags: <unk>, O, S-ORG, S-MISC, B-PER, E-PER, S-LOC, B-ORG, E-ORG, I-PER, S-PER, B-MISC, I-MISC, E-MISC, I-ORG, B-LOC, E-LOC, I-LOC, <START>, <STOP>\n",
      "Sentence[331]: \"The production of green hydrogen through electrolysis, utilizing renewable energies, is recognized as a pivotal element in the pursuit of decarbonization. In order to attain cost competitiveness for green hydrogen, reasonable generation costs are imperative. To identify cost-effective import partners for Germany, given its limited green hydrogen production capabilities, this study undertakes an exhaustive techno-economic analysis to determine the potential Levelized Cost of Hydrogen in Germany, Norway, Spain, Algeria, Morocco, and Egypt for the year 2050, which represents a critical milestone in European decarbonization efforts. Employing a stochastic approach with Monte Carlo simulations, the paper marks a significant contribution for projecting future cost ranges, acknowledging the multitude of uncertainties inherent in related cost parameters and emphasizing the importance of randomness in these assessments. Country-specific Weighted Average Cost of Capital are calculated in order to create a refined understanding of political and economic influences on cost formation, rather than using a uniform value across all investigated nations. Key findings reveal that among the evaluated nations, PV-based hydrogen emerges as the most cost-efficient alternative in all countries except Norway, with Spain presenting the lowest Levelized Cost of Hydrogen at 1.66 €/kg to 3.12 €/kg, followed by Algeria (1.72 €/kg to 3.23 €/kg) and Morocco (1.73 €/kg to 3.28 €/kg). Consequently, for economically favorable import options, Germany is advised to prioritize PV-based hydrogen imports from these countries. Additionally, hydrogen derived from onshore wind in Norway (2.24 €/kg to 3.73 €/kg) offers a feasible import alternative. To ensure supply chain diversity and reduce dependency on a single source, a mixed import strategy is advisable. Despite having the lowest electricity cost, Egypt shows the highest Levelized Cost of Hydrogen, primarily due to a significant Weighted Average Cost of Capital.\" → [\"Germany\"/LOC, \"Germany\"/LOC, \"Norway\"/LOC, \"Spain\"/LOC, \"Algeria\"/LOC, \"Morocco\"/LOC, \"Egypt\"/LOC, \"European\"/MISC, \"Monte Carlo\"/LOC, \"Norway\"/LOC, \"Spain\"/LOC, \"Algeria\"/LOC, \"Morocco\"/LOC, \"Germany\"/LOC, \"Norway\"/LOC, \"Egypt\"/LOC]\n"
     ]
    }
   ],
   "source": [
    "from flair.data import Sentence\n",
    "from flair.nn import Classifier\n",
    "\n",
    "# make a sentence\n",
    "sentence = Sentence(example)\n",
    "\n",
    "# load the NER tagger\n",
    "tagger = Classifier.load('ner-large')\n",
    "\n",
    "# run NER over sentence\n",
    "tagger.predict(sentence)\n",
    "\n",
    "# print the sentence with all annotations\n",
    "print(sentence)"
   ]
  },
  {
   "cell_type": "code",
   "execution_count": 239,
   "metadata": {},
   "outputs": [
    {
     "name": "stdout",
     "output_type": "stream",
     "text": [
      "2024-08-08 21:32:10,999 Warning: An empty Sentence was created! Are there empty strings in your dataset?\n",
      "2024-08-08 21:32:11,283 https://nlp.informatik.hu-berlin.de/resources/models/zelda/v2/zelda-v2.pt not found in cache, downloading to /tmp/tmpi9xv0tse\n"
     ]
    },
    {
     "name": "stderr",
     "output_type": "stream",
     "text": [
      "100%|██████████| 1.76G/1.76G [00:57<00:00, 32.8MB/s]"
     ]
    },
    {
     "name": "stdout",
     "output_type": "stream",
     "text": [
      "2024-08-08 21:33:09,101 copying /tmp/tmpi9xv0tse to cache at /home/killa1994/.flair/models/zelda-v2.pt\n"
     ]
    },
    {
     "name": "stderr",
     "output_type": "stream",
     "text": [
      "\n"
     ]
    },
    {
     "name": "stdout",
     "output_type": "stream",
     "text": [
      "2024-08-08 21:33:10,308 removing temp file /tmp/tmpi9xv0tse\n",
      "2024-08-08 21:33:19,210 SequenceTagger predicts: Dictionary with 20 tags: <unk>, O, S-ORG, S-MISC, B-PER, E-PER, S-LOC, B-ORG, E-ORG, I-PER, S-PER, B-MISC, I-MISC, E-MISC, I-ORG, B-LOC, E-LOC, I-LOC, <START>, <STOP>\n",
      "Sentence[24]: \"The production of green hydrogen through electrolysis, utilizing renewable energies, is recognized as a pivotal element in the pursuit of decarbonization.\"\n",
      "Sentence[16]: \"In order to attain cost competitiveness for green hydrogen, reasonable generation costs are imperative.\"\n",
      "Sentence[59]: \"To identify cost-effective import partners for Germany, given its limited green hydrogen production capabilities, this study undertakes an exhaustive techno-economic analysis to determine the potential Levelized Cost of Hydrogen in Germany, Norway, Spain, Algeria, Morocco, and Egypt for the year 2050, which represents a critical milestone in European decarbonization efforts.\" → [\"Germany\"/Germany, \"Germany\"/Germany, \"Norway\"/Norway, \"Spain\"/Spain, \"Algeria\"/Algeria, \"Morocco\"/Morocco, \"Egypt\"/Egypt, \"European\"/Europe]\n",
      "Sentence[41]: \"Employing a stochastic approach with Monte Carlo simulations, the paper marks a significant contribution for projecting future cost ranges, acknowledging the multitude of uncertainties inherent in related cost parameters and emphasizing the importance of randomness in these assessments.\" → [\"Monte Carlo\"/Monte_Carlo]\n",
      "Sentence[35]: \"Country-specific Weighted Average Cost of Capital are calculated in order to create a refined understanding of political and economic influences on cost formation, rather than using a uniform value across all investigated nations.\"\n",
      "Sentence[65]: \"Key findings reveal that among the evaluated nations, PV-based hydrogen emerges as the most cost-efficient alternative in all countries except Norway, with Spain presenting the lowest Levelized Cost of Hydrogen at 1.66 €/kg to 3.12 €/kg, followed by Algeria (1.72 €/kg to 3.23 €/kg) and Morocco (1.73 €/kg to 3.28 €/kg).\" → [\"PV-based\"/<unk>, \"Norway\"/Norway, \"Spain\"/Spain, \"Algeria\"/Algeria, \"Morocco\"/Morocco]\n",
      "Sentence[20]: \"Consequently, for economically favorable import options, Germany is advised to prioritize PV-based hydrogen imports from these countries.\" → [\"Germany\"/Germany, \"PV-based\"/<unk>]\n",
      "Sentence[24]: \"Additionally, hydrogen derived from onshore wind in Norway (2.24 €/kg to 3.73 €/kg) offers a feasible import alternative.\" → [\"Norway\"/Norway]\n",
      "Sentence[20]: \"To ensure supply chain diversity and reduce dependency on a single source, a mixed import strategy is advisable.\"\n",
      "Sentence[27]: \"Despite having the lowest electricity cost, Egypt shows the highest Levelized Cost of Hydrogen, primarily due to a significant Weighted Average Cost of Capital.\" → [\"Egypt\"/Egypt]\n",
      "Sentence[0]: \"\"\n"
     ]
    }
   ],
   "source": [
    "from flair.nn import Classifier\n",
    "from flair.splitter import SegtokSentenceSplitter\n",
    "\n",
    "# initialize sentence splitter\n",
    "splitter = SegtokSentenceSplitter()\n",
    "\n",
    "# use splitter to split text into list of sentences\n",
    "sentences = splitter.split(example)\n",
    "\n",
    "# predict tags for sentences\n",
    "tagger = Classifier.load('linker')\n",
    "tagger.predict(sentences)\n",
    "\n",
    "# iterate through sentences and print predicted labels\n",
    "for sentence in sentences:\n",
    "    print(sentence)"
   ]
  },
  {
   "cell_type": "code",
   "execution_count": 252,
   "metadata": {},
   "outputs": [
    {
     "name": "stdout",
     "output_type": "stream",
     "text": [
      "2024-08-08 22:03:32,707 SequenceTagger predicts: Dictionary with 47 tags: O, S-NP, B-NP, E-NP, I-NP, S-VP, B-VP, E-VP, I-VP, S-PP, B-PP, E-PP, I-PP, S-ADVP, B-ADVP, E-ADVP, I-ADVP, S-SBAR, B-SBAR, E-SBAR, I-SBAR, S-ADJP, B-ADJP, E-ADJP, I-ADJP, S-PRT, B-PRT, E-PRT, I-PRT, S-CONJP, B-CONJP, E-CONJP, I-CONJP, S-INTJ, B-INTJ, E-INTJ, I-INTJ, S-LST, B-LST, E-LST, I-LST, S-UCP, B-UCP, E-UCP, I-UCP, <START>, <STOP>\n",
      "Span[0:3]: \"This literature review\" → NP (0.9740)\n",
      "Span[3:4]: \"critically\" → ADVP (0.8480)\n",
      "Span[4:5]: \"examines\" → VP (0.5869)\n",
      "Span[5:10]: \"the current advantages and strategies\" → NP (0.9576)\n",
      "Span[10:11]: \"adopted\" → VP (0.9999)\n",
      "Span[11:12]: \"by\" → PP (0.9999)\n",
      "Span[12:14]: \"the GCC\" → NP (0.9996)\n",
      "Span[14:16]: \"to expedite\" → VP (0.9930)\n",
      "Span[16:18]: \"the implementation\" → NP (0.9989)\n",
      "Span[18:19]: \"of\" → PP (1.0000)\n",
      "Span[19:22]: \"hydrogen supply chains\" → NP (0.8397)\n",
      "Span[23:26]: \"as well as\" → CONJP (0.9895)\n",
      "Span[26:27]: \"investigation\" → NP (1.0000)\n",
      "Span[27:28]: \"into\" → PP (1.0000)\n",
      "Span[28:30]: \"the methodologies\" → NP (0.9950)\n",
      "Span[30:31]: \"employed\" → VP (0.9998)\n",
      "Span[31:32]: \"in\" → PP (0.9999)\n",
      "Span[32:34]: \"current research\" → NP (0.9962)\n",
      "Span[34:35]: \"for\" → PP (1.0000)\n",
      "Span[35:39]: \"the modelling and optimisation\" → NP (0.8731)\n",
      "Span[39:40]: \"of\" → PP (1.0000)\n",
      "Span[40:43]: \"hydrogen supply chains\" → NP (0.9067)\n"
     ]
    }
   ],
   "source": [
    "from flair.data import Sentence\n",
    "from flair.models import SequenceTagger\n",
    "\n",
    "# load model\n",
    "tagger = SequenceTagger.load(\"flair/chunk-english-fast\")\n",
    "\n",
    "# make English sentence\n",
    "sentence = Sentence(\"This literature review critically examines the current advantages and strategies adopted by the GCC to expedite the implementation of hydrogen supply chains, as well as investigation into the methodologies employed in current research for the modelling and optimisation of hydrogen supply chains.\")\n",
    "\n",
    "# predict NER tags\n",
    "tagger.predict(sentence)\n",
    "\n",
    "# print the chunks\n",
    "for chunk in sentence.get_spans('np'):\n",
    "  print(chunk)"
   ]
  },
  {
   "cell_type": "code",
   "execution_count": 249,
   "metadata": {},
   "outputs": [
    {
     "name": "stdout",
     "output_type": "stream",
     "text": [
      "2024-08-08 21:57:12,713 SequenceTagger predicts: Dictionary with 20 tags: <unk>, O, S-ORG, S-MISC, B-PER, E-PER, S-LOC, B-ORG, E-ORG, I-PER, S-PER, B-MISC, I-MISC, E-MISC, I-ORG, B-LOC, E-LOC, I-LOC, <START>, <STOP>\n",
      "Span[13:14]: \"GCC\" → ORG (0.9928)\n"
     ]
    }
   ],
   "source": [
    "from flair.data import Sentence\n",
    "from flair.nn import Classifier\n",
    "\n",
    "# 1. make example sentence\n",
    "sentence = Sentence(\"This literature review critically examines the current advantages and strategies adopted by the GCC to expedite the implementation of hydrogen supply chains, as well as investigation into the methodologies employed in current research for the modelling and optimisation of hydrogen supply chains.\")\n",
    "\n",
    "# 2. load entity tagger and predict entities\n",
    "tagger = Classifier.load('ner-fast')\n",
    "tagger.predict(sentence)\n",
    "\n",
    "# check which named entities have been found in the sentence\n",
    "entities = sentence.get_labels('ner')\n",
    "for entity in entities:\n",
    "    print(entity)\n",
    "\n",
    "# 3. load relation extractor\n",
    "extractor = Classifier.load('relations')\n",
    "\n",
    "# predict relations\n",
    "extractor.predict(sentence)\n",
    "\n",
    "# check which relations have been found\n",
    "relations = sentence.get_labels('relation')\n",
    "for relation in relations:\n",
    "    print(relation)\n",
    "\n",
    "# Use the `get_labels()` method with parameter 'relation' to iterate over all relation predictions. \n",
    "for label in sentence.get_labels('relation'):\n",
    "    print(label)"
   ]
  }
 ],
 "metadata": {
  "kernelspec": {
   "display_name": "myenv",
   "language": "python",
   "name": "python3"
  },
  "language_info": {
   "codemirror_mode": {
    "name": "ipython",
    "version": 3
   },
   "file_extension": ".py",
   "mimetype": "text/x-python",
   "name": "python",
   "nbconvert_exporter": "python",
   "pygments_lexer": "ipython3",
   "version": "3.12.4"
  }
 },
 "nbformat": 4,
 "nbformat_minor": 2
}
